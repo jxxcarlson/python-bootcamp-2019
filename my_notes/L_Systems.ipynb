{
 "cells": [
  {
   "cell_type": "code",
   "execution_count": 41,
   "metadata": {},
   "outputs": [],
   "source": [
    "axiom = \"F+F+F+F\"\n",
    "\n",
    "def rewrite_symbol(symbol):\n",
    "    if symbol == \"F\":\n",
    "        return [\"F\", \"F\", \"+\", \"F\", \"+\", \"F\", \"+\",\"F\", \"+\", \"F\", \"F\"]\n",
    "    else:\n",
    "        return symbol\n",
    "    \n",
    "flatten = lambda l: [item for sublist in l for item in sublist]"
   ]
  },
  {
   "cell_type": "code",
   "execution_count": 42,
   "metadata": {},
   "outputs": [],
   "source": [
    "def rewrite(str): \n",
    "    symbol_list = list(str)\n",
    "    new_symbol_list = flatten(list(map(rewrite_symbol, symbol_list)))\n",
    "    return \"\".join(new_symbol_list)\n"
   ]
  },
  {
   "cell_type": "code",
   "execution_count": 44,
   "metadata": {},
   "outputs": [
    {
     "data": {
      "text/plain": [
       "'FF+F+F+F+FF+FF+F+F+F+FF+FF+F+F+F+FF+FF+F+F+F+FF'"
      ]
     },
     "execution_count": 44,
     "metadata": {},
     "output_type": "execute_result"
    }
   ],
   "source": [
    "rewrite(axiom)"
   ]
  }
 ],
 "metadata": {
  "kernelspec": {
   "display_name": "Python 3",
   "language": "python",
   "name": "python3"
  },
  "language_info": {
   "codemirror_mode": {
    "name": "ipython",
    "version": 3
   },
   "file_extension": ".py",
   "mimetype": "text/x-python",
   "name": "python",
   "nbconvert_exporter": "python",
   "pygments_lexer": "ipython3",
   "version": "3.7.1"
  }
 },
 "nbformat": 4,
 "nbformat_minor": 2
}
