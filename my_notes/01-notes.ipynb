{
 "cells": [
  {
   "cell_type": "code",
   "execution_count": 2,
   "metadata": {},
   "outputs": [],
   "source": [
    "# Uniqueify lists\n",
    "\n",
    "def unique(inputList):\n",
    "    outputList = []\n",
    "    for item in inputList:\n",
    "        if item not in outputList:\n",
    "            outputList.append(item)\n",
    "    return outputList"
   ]
  },
  {
   "cell_type": "code",
   "execution_count": 3,
   "metadata": {},
   "outputs": [
    {
     "data": {
      "text/plain": [
       "[1, 3, 2]"
      ]
     },
     "execution_count": 3,
     "metadata": {},
     "output_type": "execute_result"
    }
   ],
   "source": [
    "unique([1,1,3,3,1,2,3])"
   ]
  },
  {
   "cell_type": "code",
   "execution_count": 5,
   "metadata": {},
   "outputs": [],
   "source": [
    "# Adding lists\n",
    "\n",
    "def add(a,b): \n",
    "    outputList = []\n",
    "    for i in range(len(a)):\n",
    "        outputList.append(a[i] + b[i])\n",
    "    return outputList\n"
   ]
  },
  {
   "cell_type": "code",
   "execution_count": 6,
   "metadata": {},
   "outputs": [
    {
     "data": {
      "text/plain": [
       "[2, 3, 2]"
      ]
     },
     "execution_count": 6,
     "metadata": {},
     "output_type": "execute_result"
    }
   ],
   "source": [
    "add([1,2,3], [1,1,-1])"
   ]
  },
  {
   "cell_type": "code",
   "execution_count": 7,
   "metadata": {},
   "outputs": [
    {
     "data": {
      "text/plain": [
       "['a=1', 'b=2', 'c=3']"
      ]
     },
     "execution_count": 7,
     "metadata": {},
     "output_type": "execute_result"
    }
   ],
   "source": [
    "add([\"a\", \"b\", \"c\"], [\"=1\", \"=2\", \"=3\"])"
   ]
  },
  {
   "cell_type": "code",
   "execution_count": 10,
   "metadata": {},
   "outputs": [
    {
     "data": {
      "text/plain": [
       "['a', 'b', 'c']"
      ]
     },
     "execution_count": 10,
     "metadata": {},
     "output_type": "execute_result"
    }
   ],
   "source": [
    "unique(['a', 'b', 'a', 'c', 'c'])"
   ]
  },
  {
   "cell_type": "code",
   "execution_count": 3,
   "metadata": {},
   "outputs": [
    {
     "name": "stdout",
     "output_type": "stream",
     "text": [
      "1 7050\n",
      "2 13402\n",
      "3 20073\n",
      "4 27076\n",
      "5 34430\n",
      "6 42152\n",
      "7 50259\n",
      "8 58772\n",
      "9 67711\n",
      "10 77096\n",
      "11 86951\n",
      "12 97299\n",
      "13 108164\n",
      "14 119572\n",
      "15 131550\n",
      "16 144128\n",
      "17 157334\n",
      "18 171201\n"
     ]
    }
   ],
   "source": [
    "k = 0.05 # interest rate\n",
    "c = 6000 # yearly contribution\n",
    "n = 18   # investment period\n",
    "\n",
    "principal = 1000\n",
    "for i in range (1,n+1):\n",
    "    principal = (1 + k) * principal + c\n",
    "    print(i, round(principal))"
   ]
  },
  {
   "cell_type": "code",
   "execution_count": 15,
   "metadata": {},
   "outputs": [],
   "source": [
    "import math\n",
    "def pow(a,k):\n",
    "    return math.exp(k*math.log(a))\n",
    "# "
   ]
  },
  {
   "cell_type": "code",
   "execution_count": 17,
   "metadata": {},
   "outputs": [],
   "source": [
    "k = 0.05\n",
    "kk = pow((1 + k), (1/12)) - 1"
   ]
  },
  {
   "cell_type": "code",
   "execution_count": 18,
   "metadata": {},
   "outputs": [
    {
     "data": {
      "text/plain": [
       "0.0040741237836483535"
      ]
     },
     "execution_count": 18,
     "metadata": {},
     "output_type": "execute_result"
    }
   ],
   "source": [
    "kk"
   ]
  },
  {
   "cell_type": "code",
   "execution_count": null,
   "metadata": {},
   "outputs": [],
   "source": []
  }
 ],
 "metadata": {
  "kernelspec": {
   "display_name": "Python 3",
   "language": "python",
   "name": "python3"
  },
  "language_info": {
   "codemirror_mode": {
    "name": "ipython",
    "version": 3
   },
   "file_extension": ".py",
   "mimetype": "text/x-python",
   "name": "python",
   "nbconvert_exporter": "python",
   "pygments_lexer": "ipython3",
   "version": "3.7.1"
  }
 },
 "nbformat": 4,
 "nbformat_minor": 2
}
