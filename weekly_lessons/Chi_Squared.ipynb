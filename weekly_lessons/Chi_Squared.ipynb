{
 "cells": [
  {
   "cell_type": "code",
   "execution_count": null,
   "metadata": {},
   "outputs": [],
   "source": [
    "# Let's test the rendom number generator\n",
    "# Divide the unit interval into K equal subintervals\n",
    "# Run the generator N times and count the number \n",
    "# of numbers in each subinterval.  There should be\n",
    "# about N/K in each.  This statement will be made\n",
    "# more precise using the Chi-square statistic"
   ]
  },
  {
   "cell_type": "code",
   "execution_count": null,
   "metadata": {},
   "outputs": [],
   "source": [
    "from random import uniform\n",
    "from math import floor"
   ]
  },
  {
   "cell_type": "code",
   "execution_count": null,
   "metadata": {},
   "outputs": [],
   "source": [
    "uniform(0,1)"
   ]
  },
  {
   "cell_type": "code",
   "execution_count": null,
   "metadata": {},
   "outputs": [],
   "source": [
    "def run_experiment(n):\n",
    "    output = []\n",
    "    for i in list(range(0,n)):\n",
    "        output.append(uniform(0,1))\n",
    "    return output"
   ]
  },
  {
   "cell_type": "code",
   "execution_count": null,
   "metadata": {},
   "outputs": [],
   "source": [
    "data = run_experiment(10)\n",
    "data"
   ]
  },
  {
   "cell_type": "code",
   "execution_count": null,
   "metadata": {},
   "outputs": [],
   "source": [
    "def bin_index(a,b,n,x):\n",
    "    bin_width = (b-a)/n\n",
    "    return min(floor((x-a)/bin_width),n-1)\n",
    "\n",
    "list(map( lambda x: bin_index(0,1,10,x), data))"
   ]
  },
  {
   "cell_type": "code",
   "execution_count": null,
   "metadata": {},
   "outputs": [],
   "source": [
    "def bins(data, a, b, n):\n",
    "    bins = [0]*n\n",
    "    for x in data:\n",
    "        k = bin_index(a,b,n,x)\n",
    "        bins[k] = bins[k] + 1\n",
    "    return bins"
   ]
  },
  {
   "cell_type": "code",
   "execution_count": null,
   "metadata": {},
   "outputs": [],
   "source": [
    "bins([0, 0.1, 0.2, 0.3, 0.4 , 0.5, 0.6, 0.7, 0.8, 0.9, 1.0], 0, 1, 10)"
   ]
  },
  {
   "cell_type": "code",
   "execution_count": null,
   "metadata": {},
   "outputs": [],
   "source": [
    "bins(data, 0, 1, 10)"
   ]
  },
  {
   "cell_type": "code",
   "execution_count": null,
   "metadata": {},
   "outputs": [],
   "source": [
    "data2 = run_experiment(1000)\n",
    "bin_counts = bins(data2, 0, 1, 10)\n",
    "bin_counts"
   ]
  },
  {
   "cell_type": "code",
   "execution_count": null,
   "metadata": {},
   "outputs": [],
   "source": [
    "frequencies = list(map(lambda x: x/1000, bin_counts))\n",
    "frequencies"
   ]
  },
  {
   "cell_type": "code",
   "execution_count": null,
   "metadata": {},
   "outputs": [],
   "source": [
    "## Chi squared statistic\n",
    "## Chi2(data) = sum of (O_i - E_i)^2/O_i\n",
    "## \n",
    "## (1) Compute Ch2(data) using Python\n",
    "## (2) What does it mean?\n",
    "##     Obviously the bigger Chi2, the more \"unexpected\" the result\n",
    "##     But this statement needs to be made precise\n",
    "##\n",
    "## Chi square table: https://faculty.elgin.edu/dkernler/statistics/ch09/chi-square-table.pdf"
   ]
  },
  {
   "cell_type": "code",
   "execution_count": null,
   "metadata": {},
   "outputs": [],
   "source": []
  },
  {
   "cell_type": "code",
   "execution_count": null,
   "metadata": {},
   "outputs": [],
   "source": [
    "def chi2(observed, expected):\n",
    "    for (o, e) in zip(observed, expected):\n",
    "        print (o,e)\n",
    "    "
   ]
  },
  {
   "cell_type": "code",
   "execution_count": null,
   "metadata": {},
   "outputs": [],
   "source": [
    "one_third = 1/3.0\n",
    "chi2([0.5,0.15, 0.35], [one_third, one_third, one_third])"
   ]
  },
  {
   "cell_type": "code",
   "execution_count": null,
   "metadata": {},
   "outputs": [],
   "source": [
    "def chi2(observed, expected):\n",
    "    output = 0\n",
    "    for (o, e) in zip(observed, expected):\n",
    "        output += (o - e)**2/o\n",
    "    return output\n",
    "    "
   ]
  },
  {
   "cell_type": "code",
   "execution_count": null,
   "metadata": {},
   "outputs": [],
   "source": [
    "chi2([2,4,4], [3,3,3])"
   ]
  },
  {
   "cell_type": "code",
   "execution_count": null,
   "metadata": {},
   "outputs": [],
   "source": [
    "expected_frequencies = [0.1]*10\n",
    "chi2(frequencies, expected_frequencies)"
   ]
  },
  {
   "cell_type": "code",
   "execution_count": null,
   "metadata": {},
   "outputs": [],
   "source": []
  }
 ],
 "metadata": {
  "kernelspec": {
   "display_name": "Python 3",
   "language": "python",
   "name": "python3"
  },
  "language_info": {
   "codemirror_mode": {
    "name": "ipython",
    "version": 3
   },
   "file_extension": ".py",
   "mimetype": "text/x-python",
   "name": "python",
   "nbconvert_exporter": "python",
   "pygments_lexer": "ipython3",
   "version": "3.7.1"
  }
 },
 "nbformat": 4,
 "nbformat_minor": 2
}
