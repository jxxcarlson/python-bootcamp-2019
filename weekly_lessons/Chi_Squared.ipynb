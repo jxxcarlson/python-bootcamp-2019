{
 "cells": [
  {
   "cell_type": "code",
   "execution_count": null,
   "metadata": {},
   "outputs": [],
   "source": [
    "# Let's test the rendom number generator\n",
    "# Divide the unit interval into K equal subintervals\n",
    "# Run the generator N times and count the number \n",
    "# of numbers in each subinterval.  There should be\n",
    "# about N/K in each.  This statement will be made\n",
    "# more precise using the Chi-square statistic"
   ]
  },
  {
   "cell_type": "code",
   "execution_count": null,
   "metadata": {},
   "outputs": [],
   "source": [
    "from random import uniform\n",
    "from math import floor"
   ]
  },
  {
   "cell_type": "code",
   "execution_count": null,
   "metadata": {},
   "outputs": [],
   "source": [
    "uniform(0,1), uniform(0,1), uniform(0,1), uniform(0,1), uniform(0,1)"
   ]
  },
  {
   "cell_type": "code",
   "execution_count": null,
   "metadata": {},
   "outputs": [],
   "source": [
    "def run_experiment(f, n):\n",
    "    output = []\n",
    "    for i in list(range(0,n)):\n",
    "        output.append(f())\n",
    "    return output"
   ]
  },
  {
   "cell_type": "code",
   "execution_count": null,
   "metadata": {},
   "outputs": [],
   "source": [
    "data = run_experiment(lambda : uniform(0,1), 10)\n",
    "data"
   ]
  },
  {
   "cell_type": "code",
   "execution_count": null,
   "metadata": {},
   "outputs": [],
   "source": [
    "def bin_index(a,b,n,x):\n",
    "    bin_width = (b-a)/n\n",
    "    return min(floor((x-a)/bin_width),n-1)\n",
    "\n",
    "list(map( lambda x: bin_index(0,1,10,x), data))"
   ]
  },
  {
   "cell_type": "code",
   "execution_count": null,
   "metadata": {},
   "outputs": [],
   "source": [
    "def bins(data, a, b, n):\n",
    "    bins = [0]*n\n",
    "    for x in data:\n",
    "        k = bin_index(a,b,n,x)\n",
    "        bins[k] = bins[k] + 1\n",
    "    return bins"
   ]
  },
  {
   "cell_type": "code",
   "execution_count": null,
   "metadata": {},
   "outputs": [],
   "source": [
    "bins([0, 0.1, 0.201, 0.3, 0.4 , 0.5, 0.6, 0.7, 0.8, 0.9, 1.0], 0, 1, 10)"
   ]
  },
  {
   "cell_type": "code",
   "execution_count": null,
   "metadata": {},
   "outputs": [],
   "source": [
    "print(data)\n",
    "bins(data, 0, 1, 10)"
   ]
  },
  {
   "cell_type": "code",
   "execution_count": null,
   "metadata": {},
   "outputs": [],
   "source": [
    "data = run_experiment(lambda : uniform(0,1), 1000)\n",
    "bin_counts = bins(data, 0, 1, 10)\n",
    "bin_counts"
   ]
  },
  {
   "cell_type": "code",
   "execution_count": null,
   "metadata": {},
   "outputs": [],
   "source": [
    "## Chi squared statistic\n",
    "## Chi2(data) = sum of (O_i - E_i)^2/E_i\n",
    "## \n",
    "## (1) Compute Ch2(data) using Python\n",
    "## (2) What does it mean?\n",
    "##     Obviously the bigger Chi2, the more \"unexpected\" the result\n",
    "##     But this statement needs to be made precise\n",
    "##\n",
    "## Chi square table: https://faculty.elgin.edu/dkernler/statistics/ch09/chi-square-table.pdf"
   ]
  },
  {
   "cell_type": "code",
   "execution_count": null,
   "metadata": {},
   "outputs": [],
   "source": [
    "def chi2(observed, expected):\n",
    "    output = 0\n",
    "    for (o, e) in zip(observed, expected):\n",
    "        output += (o - e)**2/e\n",
    "    return output\n",
    "    \n",
    "def chi2data(observed, expected_value, number_of_bins):\n",
    "    bin_counts = bins(observed, 0, 1, number_of_bins)\n",
    "    expected = [expected_value]*number_of_bins\n",
    "    return chi2(bin_counts, expected)    "
   ]
  },
  {
   "cell_type": "code",
   "execution_count": null,
   "metadata": {},
   "outputs": [],
   "source": [
    "print(bin_counts)\n",
    "chi2data(data, 100, 10)"
   ]
  },
  {
   "cell_type": "code",
   "execution_count": null,
   "metadata": {},
   "outputs": [],
   "source": [
    "# What is the significance of this result?\n",
    "# degrees of freedom = n - 1 = 9\n",
    "# Confidence level 0.9 means that the value\n",
    "# of chi2 is less than the value c such that\n",
    "# the area under the graph of the probability \n",
    "# density function to the right of c is 0.1.\n",
    "# For 9 degrees of freedom c = 14.694. Our \n",
    "# value (for this trial is 6.9: ACCEPT\n"
   ]
  },
  {
   "cell_type": "code",
   "execution_count": null,
   "metadata": {},
   "outputs": [],
   "source": [
    "# References for the chi-square distribution:\n",
    "# https://faculty.elgin.edu/dkernler/statistics/ch09/chi-square-table.pdf\n",
    "\n",
    "# References for random number generators:\n",
    "# (1) https://www.math.arizona.edu/~tgk/mc/book_chap3.pdf\n",
    "# (2) http://www.ams.org/journals/mcom/1999-68-225/S0025-5718-99-00996-5/S0025-5718-99-00996-5.pdf\n",
    "# (3) http://www0.cs.ucl.ac.uk/staff/d.jones/GoodPracticeRNG.pdf"
   ]
  },
  {
   "cell_type": "code",
   "execution_count": null,
   "metadata": {},
   "outputs": [],
   "source": [
    "data = run_experiment(lambda :uniform(0,1), 1000)\n",
    "chi2data(data, 100, 10)"
   ]
  },
  {
   "cell_type": "code",
   "execution_count": null,
   "metadata": {},
   "outputs": [],
   "source": [
    "modulus = 2**31 - 1\n",
    "def f(x):\n",
    "    return 6807*x % modulus\n",
    "modulus"
   ]
  },
  {
   "cell_type": "code",
   "execution_count": null,
   "metadata": {},
   "outputs": [],
   "source": [
    "def orbit(f,a,n):\n",
    "    output = [a]\n",
    "    for i in range(1,n):\n",
    "        a = f(a)\n",
    "        output.append(a)\n",
    "    return output"
   ]
  },
  {
   "cell_type": "code",
   "execution_count": null,
   "metadata": {},
   "outputs": [],
   "source": [
    "data = list(map(lambda x: x/modulus, orbit(f, 200, 10000)))\n",
    "chi2data(data, 100, 100)"
   ]
  },
  {
   "cell_type": "code",
   "execution_count": null,
   "metadata": {},
   "outputs": [],
   "source": [
    "# In the above example, n = 100, so there \n",
    "# are 99 degrees of freedom. For confidence \n",
    "# 0.90, c ~ 118: ACCEPT"
   ]
  }
 ],
 "metadata": {
  "kernelspec": {
   "display_name": "Python 3",
   "language": "python",
   "name": "python3"
  },
  "language_info": {
   "codemirror_mode": {
    "name": "ipython",
    "version": 3
   },
   "file_extension": ".py",
   "mimetype": "text/x-python",
   "name": "python",
   "nbconvert_exporter": "python",
   "pygments_lexer": "ipython3",
   "version": "3.7.1"
  }
 },
 "nbformat": 4,
 "nbformat_minor": 2
}
