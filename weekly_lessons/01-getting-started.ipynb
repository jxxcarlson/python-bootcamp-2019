{
 "cells": [
  {
   "cell_type": "markdown",
   "metadata": {},
   "source": [
    "# 1. Getting Started"
   ]
  },
  {
   "cell_type": "markdown",
   "metadata": {},
   "source": [
    "## 1.1 Expressions"
   ]
  },
  {
   "cell_type": "code",
   "execution_count": null,
   "metadata": {},
   "outputs": [],
   "source": [
    "2+2                    # a numerical expression"
   ]
  },
  {
   "cell_type": "code",
   "execution_count": null,
   "metadata": {},
   "outputs": [],
   "source": [
    "\"A\" + \":\" + \"B\"        # a string expression"
   ]
  },
  {
   "cell_type": "code",
   "execution_count": null,
   "metadata": {},
   "outputs": [],
   "source": [
    "[2, 4, 6] + [3, 5, 7]  # a list expression"
   ]
  },
  {
   "cell_type": "code",
   "execution_count": null,
   "metadata": {},
   "outputs": [],
   "source": [
    "(2 + 3.1)*(5  - 1.012) # expressions with parentheses"
   ]
  },
  {
   "cell_type": "code",
   "execution_count": null,
   "metadata": {},
   "outputs": [],
   "source": [
    "2**1000                # large integers"
   ]
  },
  {
   "cell_type": "markdown",
   "metadata": {},
   "source": [
    "## 1.2 Variables"
   ]
  },
  {
   "cell_type": "code",
   "execution_count": null,
   "metadata": {},
   "outputs": [],
   "source": [
    "a = 3.1; b = 4.6; a*b   # store data in variables, use variables in expressions"
   ]
  },
  {
   "cell_type": "code",
   "execution_count": null,
   "metadata": {},
   "outputs": [],
   "source": [
    "a                       # retrieve the stored data"
   ]
  },
  {
   "cell_type": "code",
   "execution_count": null,
   "metadata": {},
   "outputs": [],
   "source": [
    "a = 10; a*b             # the value of a variable can be changed"
   ]
  },
  {
   "cell_type": "code",
   "execution_count": null,
   "metadata": {},
   "outputs": [],
   "source": [
    "aa = [2, 4, 6]; bb = [3, 5, 7]; cc = aa + bb"
   ]
  },
  {
   "cell_type": "code",
   "execution_count": null,
   "metadata": {},
   "outputs": [],
   "source": [
    "cc"
   ]
  },
  {
   "cell_type": "markdown",
   "metadata": {},
   "source": [
    "## 1.3 Functions,  Conditionals"
   ]
  },
  {
   "cell_type": "code",
   "execution_count": null,
   "metadata": {},
   "outputs": [],
   "source": [
    "len(cc)                     # len is function from lists of things to integers"
   ]
  },
  {
   "cell_type": "code",
   "execution_count": null,
   "metadata": {},
   "outputs": [],
   "source": [
    "len(\"Howdy!\")               # len is also a function from strings to integers.  Hmmm..."
   ]
  },
  {
   "cell_type": "code",
   "execution_count": null,
   "metadata": {},
   "outputs": [],
   "source": [
    "import math; math.sqrt(2)  # You have to import the module in which `sqrt` is \n",
    "# defined before using it."
   ]
  },
  {
   "cell_type": "code",
   "execution_count": null,
   "metadata": {},
   "outputs": [],
   "source": [
    "def square(x):             # Defined a function yourself\n",
    "    return x*x             # Note 'return' -- it is mandatory"
   ]
  },
  {
   "cell_type": "code",
   "execution_count": null,
   "metadata": {},
   "outputs": [],
   "source": [
    "math.sqrt(square(2))        # The first test"
   ]
  },
  {
   "cell_type": "code",
   "execution_count": null,
   "metadata": {},
   "outputs": [],
   "source": [
    "square(3)\n"
   ]
  },
  {
   "cell_type": "code",
   "execution_count": null,
   "metadata": {},
   "outputs": [],
   "source": [
    "a = square(math.sqrt(2));   a     # Another test."
   ]
  },
  {
   "cell_type": "code",
   "execution_count": null,
   "metadata": {},
   "outputs": [],
   "source": [
    "str(123)                    # Convert a number to a string"
   ]
  },
  {
   "cell_type": "code",
   "execution_count": null,
   "metadata": {},
   "outputs": [],
   "source": [
    "def digits(n):              # Define a function by composing existing functions\n",
    "    return len(str(n))\n",
    "\n",
    "digits(2**1000)"
   ]
  },
  {
   "cell_type": "code",
   "execution_count": null,
   "metadata": {},
   "outputs": [],
   "source": [
    "def collatz(n):            # This function uses a conditional statement to make a decision.\n",
    "    if n % 2 == 0:\n",
    "        return n//2\n",
    "    else:\n",
    "        return 3*n + 1"
   ]
  },
  {
   "cell_type": "code",
   "execution_count": null,
   "metadata": {},
   "outputs": [],
   "source": [
    "collatz(1)"
   ]
  },
  {
   "cell_type": "code",
   "execution_count": null,
   "metadata": {},
   "outputs": [],
   "source": [
    "collatz(_)  #  _ is special variable that holds the last value computed"
   ]
  },
  {
   "cell_type": "code",
   "execution_count": null,
   "metadata": {},
   "outputs": [],
   "source": [
    "collatz(_)"
   ]
  },
  {
   "cell_type": "code",
   "execution_count": null,
   "metadata": {},
   "outputs": [],
   "source": [
    "collatz(_) # We have found a cycle of repeating values"
   ]
  },
  {
   "cell_type": "markdown",
   "metadata": {},
   "source": [
    "## 1.4 Basic Loops"
   ]
  },
  {
   "cell_type": "code",
   "execution_count": null,
   "metadata": {},
   "outputs": [],
   "source": [
    "k = 17;\n",
    "for i in range(0,20):\n",
    "  print i, k\n",
    "  k = collatz(k)\n"
   ]
  },
  {
   "cell_type": "code",
   "execution_count": null,
   "metadata": {},
   "outputs": [],
   "source": [
    "# We will compute 1 + 2 + ... + 10\n",
    "\n",
    "sum = 0\n",
    "for i in range(1,11):\n",
    "    sum = sum + i\n",
    "sum"
   ]
  },
  {
   "cell_type": "code",
   "execution_count": null,
   "metadata": {},
   "outputs": [],
   "source": [
    "# We will invest money at 3% interest for 10 years:\n",
    "\n",
    "sum = 100\n",
    "for i in range(0,11):\n",
    "    print i, sum\n",
    "    sum = 1.03*sum"
   ]
  },
  {
   "cell_type": "code",
   "execution_count": null,
   "metadata": {},
   "outputs": [],
   "source": [
    "# Let's not get crazy with precision:\n",
    "\n",
    "sum = 100\n",
    "for i in range(0,11):\n",
    "    print i, sum\n",
    "    sum = round(1.03*sum,2)"
   ]
  },
  {
   "cell_type": "code",
   "execution_count": null,
   "metadata": {},
   "outputs": [],
   "source": [
    "# We can do better with the formatting:\n",
    "\n",
    "sum = 100\n",
    "for i in range(0,11):\n",
    "    print \"%4d:  %4.2f\" %(i, sum)\n",
    "    sum = round(1.03*sum,2)"
   ]
  },
  {
   "cell_type": "code",
   "execution_count": null,
   "metadata": {},
   "outputs": [],
   "source": [
    "# Let's compute the sum of the first n terms of the harmonic series\n",
    "# 1 + 1/2 + 1/3 + ... + 1/n\n",
    "\n",
    "sum = 0\n",
    "for n in range(1,100):\n",
    "    sum = sum + 1.0/n\n",
    "sum"
   ]
  },
  {
   "cell_type": "markdown",
   "metadata": {},
   "source": [
    "## 1.5 The While Loop"
   ]
  },
  {
   "cell_type": "code",
   "execution_count": null,
   "metadata": {},
   "outputs": [],
   "source": [
    "# Let's find out how many terms we need in the harmonic series to get sum >= 10.\n",
    "\n",
    "n = 1\n",
    "sum = 0\n",
    "while sum < 20:\n",
    "    sum = sum + 1.0/n\n",
    "    n = n + 1\n",
    "n"
   ]
  },
  {
   "cell_type": "code",
   "execution_count": null,
   "metadata": {},
   "outputs": [],
   "source": [
    "# Let's find out how long it takes to pay off a loan:\n",
    "\n",
    "import math\n",
    "\n",
    "balance = 5000.00\n",
    "annual_rate = 0.09\n",
    "monthly_rate = math.exp(math.log(1 + annual_rate)/12.0) - 1\n",
    "monthly_factor = 1 + monthly_rate\n",
    "monthly_payment = 150\n",
    "month = 0\n",
    "\n",
    "print \"Monthly rate: %1.4f\\n\" %(monthly_rate)\n",
    "\n",
    "# Use d to format integers.  For example %4d means \n",
    "# format an integer in a 4-character space.  Use f\n",
    "# to format floating point numbers.  For example,\n",
    "# %4.2f means format a floating point number with\n",
    "# 4 characters to the left of the decimal point\n",
    "# and 2 to the right.\n",
    "\n",
    "while balance > 0:\n",
    "    print \"%4d: %4.2f\" %(month, balance)\n",
    "    balance = monthly_factor*balance - monthly_payment\n",
    "    month = month + 1\n",
    "    \n",
    "print \"\\n%d months to pay off your loan\" %(month)"
   ]
  },
  {
   "cell_type": "markdown",
   "metadata": {
    "collapsed": true
   },
   "source": [
    "## 1.6 Randomness: simulating coin tosses\n"
   ]
  },
  {
   "cell_type": "code",
   "execution_count": null,
   "metadata": {},
   "outputs": [],
   "source": [
    "# We will simulate the toss of a coin\n",
    "\n",
    "import random as r\n",
    "\n",
    "def coin():\n",
    "    u = r.random()\n",
    "    if u < 0.5:\n",
    "        return \"H\"\n",
    "    else:\n",
    "        return \"T\"\n",
    "\n",
    "coin()\n"
   ]
  },
  {
   "cell_type": "code",
   "execution_count": null,
   "metadata": {},
   "outputs": [],
   "source": [
    "\n",
    "import random as r\n",
    "\n",
    "r.random()"
   ]
  },
  {
   "cell_type": "code",
   "execution_count": null,
   "metadata": {},
   "outputs": [],
   "source": [
    "# We will toss our virtual coin 10 times:\n",
    "\n",
    "for i in range(0, 10):\n",
    "    print coin(),"
   ]
  },
  {
   "cell_type": "code",
   "execution_count": null,
   "metadata": {},
   "outputs": [],
   "source": [
    "# Instead of printing out random H and T's, we \n",
    "# will construct a random string of H and T's.\n",
    "\n",
    "def run(n):\n",
    "  output = \"\"\n",
    "  for k in range(0,n):\n",
    "    output = output + coin()\n",
    "  return output\n",
    "\n",
    "run(20)"
   ]
  },
  {
   "cell_type": "code",
   "execution_count": null,
   "metadata": {},
   "outputs": [],
   "source": [
    "# Let's do a little statistics. We first devise \n",
    "# a function to count the number of occurrences\n",
    "# of 'H' in a string:\n",
    "\n",
    "def count_heads(str):\n",
    "  heads = 0\n",
    "  for letter in list(str):\n",
    "      if letter == 'H':\n",
    "          heads = heads + 1\n",
    "  return heads\n",
    "\n",
    "# Then we can do this:\n",
    "count_heads(run(100))"
   ]
  },
  {
   "cell_type": "code",
   "execution_count": null,
   "metadata": {},
   "outputs": [],
   "source": [
    "for x in list(\"abc\"):\n",
    "    print x"
   ]
  },
  {
   "cell_type": "code",
   "execution_count": null,
   "metadata": {},
   "outputs": [],
   "source": [
    "# Let's run this experiment a bunch of times.\n",
    "# Notice that the last argument of the function\n",
    "# 'run_experiment' is itself a function\n",
    "\n",
    "def run_experiment(trials, n, f):\n",
    "    results = []\n",
    "    for i in range(0, trials):\n",
    "        results = results + [f(n)]\n",
    "    return results\n",
    "\n",
    "\n",
    "def experiment(n):\n",
    "    return count_heads(run(n))\n",
    "\n",
    "run_experiment(10, 100, experiment)"
   ]
  },
  {
   "cell_type": "code",
   "execution_count": null,
   "metadata": {},
   "outputs": [],
   "source": [
    "a = [7,8] \n",
    "a + [1]"
   ]
  },
  {
   "cell_type": "code",
   "execution_count": null,
   "metadata": {},
   "outputs": [],
   "source": [
    "# We can also do statistics on the statistics, so to speak.\n",
    "# Lets' compute the mean, variance, and standard deviation\n",
    "# of the data produced by 'run_experiment(10, 100, experiment)'\n",
    "\n",
    "# First, some data:\n",
    "\n",
    "data = run_experiment(10, 100, experiment);\n",
    "print data\n",
    "\n",
    "# Second, a function to compute the mean of a list of numbers.\n",
    "\n",
    "def mean(x):\n",
    "    return sum(x)/float(len(x))\n",
    "    \n",
    "mean(data)"
   ]
  },
  {
   "cell_type": "code",
   "execution_count": null,
   "metadata": {},
   "outputs": [],
   "source": [
    "sum([1,2,3])"
   ]
  },
  {
   "cell_type": "code",
   "execution_count": null,
   "metadata": {},
   "outputs": [],
   "source": [
    "# Next, the variance. For this we will use some\n",
    "# ideas from functional programming\n",
    "\n",
    "foo = [1,2,3,4,5]\n",
    "\n",
    "print mean(foo)\n",
    "\n",
    "map(lambda x: x - 3, foo)\n",
    "# list(map(lambda x: x - 3, foo))\n",
    "# 'lambda x: x - 3 is a function\n",
    "# 'map(f, list)' applies f to each element of 'list' to produce a new list.\n",
    "\n",
    "# map(f, [a,b,c]) == [f(a), f(b), f(c)]"
   ]
  },
  {
   "cell_type": "code",
   "execution_count": null,
   "metadata": {},
   "outputs": [],
   "source": [
    "# Ok, we have the tools needed to generate a list of \n",
    "# differences given a list and a \"central value\":\n",
    "\n",
    "def delta(data, center):\n",
    "    return map(lambda x: x - center, data)\n",
    "   \n",
    "delta(foo, 4)"
   ]
  },
  {
   "cell_type": "code",
   "execution_count": null,
   "metadata": {},
   "outputs": [],
   "source": [
    "# Here is functtion to compute deviations from the mean:\n",
    "\n",
    "def deviation(data):\n",
    "    return delta(data, mean(data))\n",
    "\n",
    "deviation(foo)"
   ]
  },
  {
   "cell_type": "code",
   "execution_count": null,
   "metadata": {},
   "outputs": [],
   "source": [
    "# To compute the variance, we square the deviations, add, \n",
    "# and divide by the number of data points\n",
    "\n",
    "def variance(data):\n",
    "    squares = map(lambda x: x*x, deviation(data))\n",
    "    return sum(squares)/len(data)\n",
    "\n",
    "variance(foo)\n",
    "\n",
    "# remark on N versus N - 1"
   ]
  },
  {
   "cell_type": "code",
   "execution_count": null,
   "metadata": {},
   "outputs": [],
   "source": [
    "# Finally, the standard deviation is the square root of the variance:\n",
    "import math;\n",
    "\n",
    "def stdev(data):\n",
    "    return math.sqrt(variance(data))\n",
    "    \n",
    "stdev(foo)"
   ]
  },
  {
   "cell_type": "code",
   "execution_count": null,
   "metadata": {},
   "outputs": [],
   "source": [
    "# Let's return to the statistica of our experiments:\n",
    "data = run_experiment(10, 100, experiment)\n",
    "print \"data\", data\n",
    "print \"mean\", mean(data)\n",
    "print \"variance\", variance(data)\n",
    "print \"stdev\", stdev(data)"
   ]
  },
  {
   "cell_type": "code",
   "execution_count": null,
   "metadata": {},
   "outputs": [],
   "source": [
    "# The data above was 'data = run_experiment(10, 100, experiment)'\n",
    "# Let's re-run the experiment like this, varying one parameter:\n",
    "\n",
    "data = run_experiment(10, 1000, experiment);\n",
    "print \"data\", data\n",
    "print \"mean\", mean(data)\n",
    "print \"variance\", variance(data)\n",
    "print \"stdev\", stdev(data)"
   ]
  },
  {
   "cell_type": "code",
   "execution_count": null,
   "metadata": {},
   "outputs": [],
   "source": [
    "# And again:\n",
    "\n",
    "data = run_experiment(10, 10000, experiment);\n",
    "print \"data\", data\n",
    "print \"mean\", mean(data)\n",
    "print \"variance\", variance(data)\n",
    "print \"stdev\", stdev(data)"
   ]
  },
  {
   "cell_type": "markdown",
   "metadata": {},
   "source": [
    "## 1.7 Graphs"
   ]
  },
  {
   "cell_type": "code",
   "execution_count": null,
   "metadata": {},
   "outputs": [],
   "source": [
    "# We use the matplotlib and numpy modules to graph a function\n",
    "\n",
    "import matplotlib.pyplot as plt\n",
    "import numpy as np\n",
    "\n",
    "t = np.arange(0.0, 2.01, 0.01)  # an array of numbers, 0, 0.01, 0.02, ..., 2.00\n",
    "\n",
    "s = np.sin(3.1416*t) + (1.0/3.0)*np.sin(3*np.pi*t) + (1.0/5.0)*np.sin(5*np.pi*t)\n",
    "\n",
    "# Each term of the above, e.g., np.sin(3.14168*t) is an arrary of numbers:\n",
    "# A numpy function f applied to array([a,b,c, ...]) is array([f(a), f(b), f(c), ...])\n",
    "# One can add numpy arrrays and multiply them by scalars (as one sees above).\n",
    "# If a = array([x1, x1, ... ]) and b = array([y1, y2, ... ]) are two numpty \n",
    "# arrays the then plt.plot(a, b) will plot the segements joining successive \n",
    "# pairs of points (x1, y1), (x2, y2), etc.\n",
    "\n",
    "abscissa = np.zeros(len(t))\n",
    "\n",
    "plt.plot(t, s)\n",
    "plt.plot(t, abscissa, color='black', linewidth=1.0 )\n",
    "\n",
    "plt.savefig(\"fourier.png\")\n",
    "plt.show()"
   ]
  }
 ],
 "metadata": {
  "kernelspec": {
   "display_name": "Python 3",
   "language": "python",
   "name": "python3"
  },
  "language_info": {
   "codemirror_mode": {
    "name": "ipython",
    "version": 3
   },
   "file_extension": ".py",
   "mimetype": "text/x-python",
   "name": "python",
   "nbconvert_exporter": "python",
   "pygments_lexer": "ipython3",
   "version": "3.7.1"
  }
 },
 "nbformat": 4,
 "nbformat_minor": 2
}
