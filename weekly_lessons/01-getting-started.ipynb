{
 "cells": [
  {
   "cell_type": "markdown",
   "metadata": {},
   "source": [
    "# 1. Getting Started"
   ]
  },
  {
   "cell_type": "markdown",
   "metadata": {},
   "source": [
    "## 1.1 Expressions"
   ]
  },
  {
   "cell_type": "code",
   "execution_count": null,
   "metadata": {},
   "outputs": [],
   "source": [
    "2+2                    # a numerical expression"
   ]
  },
  {
   "cell_type": "code",
   "execution_count": null,
   "metadata": {},
   "outputs": [],
   "source": [
    "\"A\" + \":\" + \"B\"        # a string expression"
   ]
  },
  {
   "cell_type": "code",
   "execution_count": null,
   "metadata": {},
   "outputs": [],
   "source": [
    "[2, 4, 6] + [3, 5, 7]  # a list expression"
   ]
  },
  {
   "cell_type": "code",
   "execution_count": null,
   "metadata": {},
   "outputs": [],
   "source": [
    "(2 + 3.1)*(5  - 1.012) # expressions with parentheses"
   ]
  },
  {
   "cell_type": "code",
   "execution_count": null,
   "metadata": {},
   "outputs": [],
   "source": [
    "2**1000                # large integers"
   ]
  },
  {
   "cell_type": "markdown",
   "metadata": {},
   "source": [
    "## 1.2 Variables"
   ]
  },
  {
   "cell_type": "code",
   "execution_count": null,
   "metadata": {},
   "outputs": [],
   "source": [
    "a = 3.1; b = 4.6; a*b   # store data in variables, use variables in expressions"
   ]
  },
  {
   "cell_type": "code",
   "execution_count": null,
   "metadata": {},
   "outputs": [],
   "source": [
    "a                       # retrieve the stored data"
   ]
  },
  {
   "cell_type": "code",
   "execution_count": null,
   "metadata": {},
   "outputs": [],
   "source": [
    "a = 10; a*b             # the value of a variable can be changed"
   ]
  },
  {
   "cell_type": "code",
   "execution_count": null,
   "metadata": {},
   "outputs": [],
   "source": [
    "aa = [2, 4, 6]; bb = [3, 5, 7]; cc = aa + bb"
   ]
  },
  {
   "cell_type": "code",
   "execution_count": null,
   "metadata": {},
   "outputs": [],
   "source": [
    "cc"
   ]
  },
  {
   "cell_type": "markdown",
   "metadata": {},
   "source": [
    "## 1.3 Functions,  Conditionals"
   ]
  },
  {
   "cell_type": "code",
   "execution_count": null,
   "metadata": {},
   "outputs": [],
   "source": [
    "len(cc)                     # len is function from lists of things to integers"
   ]
  },
  {
   "cell_type": "code",
   "execution_count": null,
   "metadata": {},
   "outputs": [],
   "source": [
    "len(\"Howdy!\")               # len is also a function from strings to integers.  Hmmm..."
   ]
  },
  {
   "cell_type": "code",
   "execution_count": null,
   "metadata": {},
   "outputs": [],
   "source": [
    "import math; math.sqrt(2)  # You have to import the module in which `sqrt` is \n",
    "# defined before using it."
   ]
  },
  {
   "cell_type": "code",
   "execution_count": null,
   "metadata": {},
   "outputs": [],
   "source": [
    "def square(x):             # Defined a function yourself\n",
    "    return x*x             # Note 'return' -- it is mandatory"
   ]
  },
  {
   "cell_type": "code",
   "execution_count": null,
   "metadata": {},
   "outputs": [],
   "source": [
    "math.sqrt(square(2))        # The first test"
   ]
  },
  {
   "cell_type": "code",
   "execution_count": null,
   "metadata": {},
   "outputs": [],
   "source": [
    "square(3)\n"
   ]
  },
  {
   "cell_type": "code",
   "execution_count": null,
   "metadata": {},
   "outputs": [],
   "source": [
    "a = square(math.sqrt(2));   a     # Another test."
   ]
  },
  {
   "cell_type": "code",
   "execution_count": null,
   "metadata": {},
   "outputs": [],
   "source": [
    "str(123)                    # Convert a number to a string"
   ]
  },
  {
   "cell_type": "code",
   "execution_count": null,
   "metadata": {},
   "outputs": [],
   "source": [
    "def digits(n):              # Define a function by composing existing functions\n",
    "    return len(str(n))\n",
    "\n",
    "digits(2**1000)"
   ]
  },
  {
   "cell_type": "code",
   "execution_count": null,
   "metadata": {},
   "outputs": [],
   "source": [
    "def collatz(n):            # This function uses a conditional statement to make a decision.\n",
    "    if n % 2 == 0:\n",
    "        return n//2\n",
    "    else:\n",
    "        return 3*n + 1"
   ]
  },
  {
   "cell_type": "code",
   "execution_count": null,
   "metadata": {},
   "outputs": [],
   "source": [
    "collatz(1)"
   ]
  },
  {
   "cell_type": "code",
   "execution_count": null,
   "metadata": {},
   "outputs": [],
   "source": [
    "collatz(_)  #  _ is special variable that holds the last value computed"
   ]
  },
  {
   "cell_type": "code",
   "execution_count": null,
   "metadata": {},
   "outputs": [],
   "source": [
    "collatz(_)"
   ]
  },
  {
   "cell_type": "code",
   "execution_count": null,
   "metadata": {},
   "outputs": [],
   "source": [
    "collatz(_) # We have found a cycle of repeating values"
   ]
  },
  {
   "cell_type": "code",
   "execution_count": null,
   "metadata": {},
   "outputs": [],
   "source": [
    "# Defining a pulse:\n",
    "\n",
    "def pulse(x):\n",
    "    if x < 0:\n",
    "        return 0\n",
    "    elif x < 1:\n",
    "        return 1\n",
    "    else:\n",
    "        return 0"
   ]
  },
  {
   "cell_type": "code",
   "execution_count": null,
   "metadata": {},
   "outputs": [],
   "source": [
    "# Testing the pulse function\n",
    "\n",
    "list(map(pulse, [-2,-1,0,1,2]))"
   ]
  },
  {
   "cell_type": "code",
   "execution_count": null,
   "metadata": {},
   "outputs": [],
   "source": [
    "# Graphing the pulse\n",
    "\n",
    "import matplotlib.pyplot as plt\n",
    "%matplotlib inline\n",
    "import numpy as np\n",
    "\n",
    "xs = np.linspace(-3,3,100)\n",
    "\n",
    "ys = list(map(pulse, xs))\n",
    "\n",
    "plt.plot(xs, ys)"
   ]
  },
  {
   "cell_type": "markdown",
   "metadata": {},
   "source": [
    "## 1.4 Lambda functions & functional parameters"
   ]
  },
  {
   "cell_type": "code",
   "execution_count": null,
   "metadata": {},
   "outputs": [],
   "source": [
    "# Lambda functions. These are functions without a name.\n",
    "# For more fun: read about the Lambda Calculus\n",
    "# We will use them to make a table of squares\n",
    "\n",
    "list(map(lambda x: x*x, range(0,8)))\n",
    "\n",
    "# lambda x: x*x is the function that squares its argument:\n",
    "\n",
    "(lambda x: x*x)(3)\n",
    "\n",
    "# Lets unpack this:\n",
    "#  range(0,8) is a generator for the list\n",
    "#  of numbers [0, 1, 2, 3, 4, 5, 6, 7]\n",
    "#  To retrieve the list, evaluate list(range(0,8))\n",
    "\n"
   ]
  },
  {
   "cell_type": "code",
   "execution_count": null,
   "metadata": {},
   "outputs": [],
   "source": [
    "# Let's apply our lambda function to a list of numbers\n",
    "# to make a list of squares:\n",
    "\n",
    "list(map(lambda x: x*x, [1,2,3,4,5]))\n",
    "\n",
    "# map applies a function to a list\n",
    "# You have to use list(...) to get the result (bummer)"
   ]
  },
  {
   "cell_type": "code",
   "execution_count": null,
   "metadata": {},
   "outputs": [],
   "source": [
    "# A shortcut for making lists:\n",
    "\n",
    "list(range(1,10))"
   ]
  },
  {
   "cell_type": "code",
   "execution_count": null,
   "metadata": {},
   "outputs": [],
   "source": [
    "# Let's use the shortcut for our table of squares:\n",
    "\n",
    "list(map(lambda x: x*x, range(1,10)))"
   ]
  },
  {
   "cell_type": "markdown",
   "metadata": {},
   "source": [
    "### Integration\n",
    "\n",
    "Python functions can use other functions as parameters.\n",
    "We use this feature as well as lambda functions to\n",
    "compute some integrals. Computation of the integrals below\n",
    "uses the \"while loop\" to do repeated woork. We talk more \n",
    "about loops in the following two sections."
   ]
  },
  {
   "cell_type": "code",
   "execution_count": null,
   "metadata": {},
   "outputs": [],
   "source": [
    "# Here we see that functions can take functions as a parameter.\n",
    "# We'll use this feature to define an approximate definite integral\n",
    "# using the rectangle rule. You can do much better with the trapeoid\n",
    "# rule or Simpson's rule.\n",
    "\n",
    "\n",
    "def integral(f, a, b, h):\n",
    "    sum = 0\n",
    "    x = a\n",
    "    while x < b:\n",
    "        sum = sum + f(x)*h\n",
    "        x = x + h\n",
    "    return sum\n",
    "\n",
    "# Let's test our integral function:\n",
    "\n",
    "integral(lambda x: 1, 0, 1, 0.1), integral(lambda x: x, 0, 1, 0.01), integral(lambda x: x*x, 0, 1, 0.01)"
   ]
  },
  {
   "cell_type": "code",
   "execution_count": null,
   "metadata": {},
   "outputs": [],
   "source": [
    "# Let's graph the integral of the pulse function:\n",
    "\n",
    "integrated_pulse = lambda x: integral(pulse, -1, x, 0.01)\n",
    "\n",
    "list(map(integrated_pulse, range(-3,4)))\n",
    "\n",
    "ys = list(map(integrated_pulse, xs))\n",
    "plt.plot(xs, ys)"
   ]
  },
  {
   "cell_type": "code",
   "execution_count": null,
   "metadata": {},
   "outputs": [],
   "source": [
    "# We can define a function that takes\n",
    "# a function as one of its parameters \n",
    "# and returns a function as a value.\n",
    "\n",
    "def indefinite_integral(f,a,h):\n",
    "    return lambda x: integral(f, a, x, h)\n",
    "\n",
    "# Let's test this \"functional\" by using it\n",
    "# to integrate the pule function:\n",
    "\n",
    "ff = indefinite_integral(pulse, -3, 0.01)\n",
    "\n",
    "list(map(ff, range(-3, 4)))"
   ]
  },
  {
   "cell_type": "code",
   "execution_count": null,
   "metadata": {},
   "outputs": [],
   "source": [
    "# CONVOLUTION OF FUNCTIONS f*g(x)\n",
    "\n",
    "def convolution(f, g, a, b, h):\n",
    "    return lambda x: integral(lambda u: f(u)*f(x-u), a, b, h)\n",
    "\n",
    "ff = convolution(pulse, pulse, -4, 4, 0.01)\n",
    "\n",
    "xs = np.linspace(-3,5,100)\n",
    "ys = list(map(ff, xs))\n",
    "plt.plot(xs, ys)    "
   ]
  },
  {
   "cell_type": "markdown",
   "metadata": {},
   "source": [
    "# 1.5 Basics Loops\n",
    "\n",
    "Loops are an efficient way of commandng the computer to do repeated work.\n"
   ]
  },
  {
   "cell_type": "code",
   "execution_count": null,
   "metadata": {},
   "outputs": [],
   "source": [
    "# Print a table of function values\n",
    "# by looping over range(0,20)\n",
    "\n",
    "k = 17;\n",
    "for i in range(0,20):\n",
    "  print(i, k)\n",
    "  k = collatz(k)\n"
   ]
  },
  {
   "cell_type": "code",
   "execution_count": null,
   "metadata": {},
   "outputs": [],
   "source": [
    "# Compute the sum 1 + 2 + ... + 10\n",
    "# ACCUMULATE the result in th varaible `sum`\n",
    "\n",
    "sum = 0\n",
    "for i in range(1,11):\n",
    "    sum = sum + i\n",
    "sum"
   ]
  },
  {
   "cell_type": "code",
   "execution_count": null,
   "metadata": {},
   "outputs": [],
   "source": [
    "# Invest money at 3% interest for 10 years:\n",
    "\n",
    "sum = 100\n",
    "for i in range(0,11):\n",
    "    print (i, sum)\n",
    "    sum = 1.03*sum"
   ]
  },
  {
   "cell_type": "code",
   "execution_count": null,
   "metadata": {},
   "outputs": [],
   "source": [
    "# Let's not get crazy with precision:\n",
    "\n",
    "sum = 100\n",
    "for i in range(0,11):\n",
    "    print(i, sum)\n",
    "    sum = round(1.03*sum,2)"
   ]
  },
  {
   "cell_type": "code",
   "execution_count": null,
   "metadata": {},
   "outputs": [],
   "source": [
    "# We can do better with the formatting:\n",
    "\n",
    "sum = 100\n",
    "for i in range(0,11):\n",
    "    print(\"%4d:  %4.2f\" %(i, sum))\n",
    "    sum = round(1.03*sum,2)"
   ]
  },
  {
   "cell_type": "code",
   "execution_count": null,
   "metadata": {},
   "outputs": [],
   "source": [
    "# Sum of the first n terms of the harmonic series\n",
    "# 1 + 1/2 + 1/3 + ... + 1/n\n",
    "\n",
    "sum = 0\n",
    "for n in range(1,100):\n",
    "    sum = sum + 1.0/n\n",
    "sum"
   ]
  },
  {
   "cell_type": "markdown",
   "metadata": {},
   "source": [
    "## 1.5 The While Loop"
   ]
  },
  {
   "cell_type": "code",
   "execution_count": null,
   "metadata": {},
   "outputs": [],
   "source": [
    "# How many terms are needed in the harmonic series to get sum >= 10.\n",
    "# In the loops used above the number of times the loop body is\n",
    "# called is known in advance.  Not so for the loop below.\n",
    "\n",
    "n = 1\n",
    "sum = 0\n",
    "while sum < 10:\n",
    "    sum = sum + 1.0/n\n",
    "    n = n + 1\n",
    "n"
   ]
  },
  {
   "cell_type": "code",
   "execution_count": null,
   "metadata": {},
   "outputs": [],
   "source": [
    "# How long it takes to pay off a loan?\n",
    "\n",
    "import math\n",
    "\n",
    "balance = 5000.00\n",
    "annual_rate = 0.09\n",
    "monthly_rate = math.exp(math.log(1 + annual_rate)/12.0) - 1\n",
    "monthly_factor = 1 + monthly_rate\n",
    "monthly_payment = 150\n",
    "month = 0\n",
    "\n",
    "print(\"Monthly rate: %1.4f\\n\" %(monthly_rate))\n",
    "\n",
    "# Use d to format integers.  For example %4d means \n",
    "# format an integer in a 4-character space.  Use f\n",
    "# to format floating point numbers.  For example,\n",
    "# %4.2f means format a floating point number with\n",
    "# 4 characters to the left of the decimal point\n",
    "# and 2 to the right.\n",
    "\n",
    "while balance > 0:\n",
    "    print (\"%4d: %4.2f\" %(month, balance))\n",
    "    balance = monthly_factor*balance - monthly_payment\n",
    "    month = month + 1\n",
    "    \n",
    "print(\"\\n%d months to pay off your loan\" %(month))"
   ]
  },
  {
   "cell_type": "markdown",
   "metadata": {
    "collapsed": true
   },
   "source": [
    "## 1.6 Randomness: simulating coin tosses\n"
   ]
  },
  {
   "cell_type": "code",
   "execution_count": null,
   "metadata": {},
   "outputs": [],
   "source": [
    "# Let's simulate the toss of a coin\n",
    "\n",
    "import random as r\n",
    "\n",
    "def coin():\n",
    "    u = r.random()\n",
    "    if u < 0.5:\n",
    "        return \"H\"\n",
    "    else:\n",
    "        return \"T\"\n",
    "\n",
    "coin()\n"
   ]
  },
  {
   "cell_type": "code",
   "execution_count": null,
   "metadata": {},
   "outputs": [],
   "source": [
    "\n",
    "import random as r\n",
    "\n",
    "r.random()"
   ]
  },
  {
   "cell_type": "code",
   "execution_count": null,
   "metadata": {},
   "outputs": [],
   "source": [
    "# Toss our virtual coin 10 times:\n",
    "\n",
    "for i in range(0, 10):\n",
    "    print (coin(), end = \"\")"
   ]
  },
  {
   "cell_type": "code",
   "execution_count": null,
   "metadata": {},
   "outputs": [],
   "source": [
    "# Instead of printing out random H and T's, we \n",
    "# will construct a random string of H and T's.\n",
    "\n",
    "def run(n):\n",
    "  output = \"\"\n",
    "  for k in range(0,n):\n",
    "    output = output + coin()\n",
    "  return output\n",
    "\n",
    "run(20)"
   ]
  },
  {
   "cell_type": "code",
   "execution_count": null,
   "metadata": {},
   "outputs": [],
   "source": [
    "# Let's do a little statistics. We first devise \n",
    "# a function to count the number of occurrences\n",
    "# of 'H' in a string:\n",
    "\n",
    "def count_heads(str):\n",
    "  heads = 0\n",
    "  for letter in list(str):\n",
    "      if letter == 'H':\n",
    "          heads = heads + 1\n",
    "  return heads\n",
    "\n",
    "# Then we can do this:\n",
    "count_heads(run(100))"
   ]
  },
  {
   "cell_type": "code",
   "execution_count": null,
   "metadata": {},
   "outputs": [],
   "source": [
    "# Let's run this experiment a bunch of times.\n",
    "# Notice that the last argument of the function\n",
    "# 'run_experiment' is itself a function\n",
    "\n",
    "def run_experiment(trials, n, f):\n",
    "    results = []\n",
    "    for i in range(0, trials):\n",
    "        results = results + [f(n)]\n",
    "    return results\n",
    "\n",
    "\n",
    "def experiment(n):\n",
    "    return count_heads(run(n))\n",
    "\n",
    "run_experiment(10, 100, experiment)"
   ]
  },
  {
   "cell_type": "code",
   "execution_count": null,
   "metadata": {},
   "outputs": [],
   "source": [
    "# We can also do statistics on the statistics, so to speak.\n",
    "# Lets' compute the mean, variance, and standard deviation\n",
    "# of the data produced by 'run_experiment(10, 100, experiment)'\n",
    "\n",
    "# First, some data:\n",
    "\n",
    "del sum  # We said 'sum = 0', etc., above, so now Python is confused\n",
    "\n",
    "data = run_experiment(10, 100, experiment);\n",
    "print(data)\n",
    "\n",
    "# Second, a function to compute the mean of a list of numbers.\n",
    "\n",
    "def mean(x):\n",
    "    return (sum(x)/len(x))\n",
    "    \n",
    "mean(data)"
   ]
  },
  {
   "cell_type": "code",
   "execution_count": null,
   "metadata": {},
   "outputs": [],
   "source": [
    "data"
   ]
  },
  {
   "cell_type": "code",
   "execution_count": null,
   "metadata": {},
   "outputs": [],
   "source": [
    "mean(data)"
   ]
  },
  {
   "cell_type": "code",
   "execution_count": null,
   "metadata": {},
   "outputs": [],
   "source": [
    "# Next, the variance. For this we will use some\n",
    "# ideas from functional programming\n",
    "\n",
    "foo = [1,2,3,4,5]\n",
    "\n",
    "print(mean(foo))\n",
    "\n",
    "list(map(lambda x: x - 3, foo))\n",
    "# list(map(lambda x: x - 3, foo))\n",
    "# 'lambda x: x - 3 is a function\n",
    "# 'map(f, list)' applies f to each element of 'list' to produce a new list.\n",
    "\n",
    "# map(f, [a,b,c]) == [f(a), f(b), f(c)]"
   ]
  },
  {
   "cell_type": "code",
   "execution_count": null,
   "metadata": {},
   "outputs": [],
   "source": [
    "# Ok, we have the tools needed to generate a list of \n",
    "# differences given a list and a \"central value\":\n",
    "\n",
    "def delta(data, center):\n",
    "    return list(map(lambda x: x - center, data))\n",
    "   \n",
    "delta(foo, 4)"
   ]
  },
  {
   "cell_type": "code",
   "execution_count": null,
   "metadata": {},
   "outputs": [],
   "source": [
    "# Here is a functtion to compute deviations from the mean:\n",
    "\n",
    "def deviation(data):\n",
    "    return delta(data, mean(data))\n",
    "\n",
    "deviation(foo)"
   ]
  },
  {
   "cell_type": "code",
   "execution_count": null,
   "metadata": {},
   "outputs": [],
   "source": [
    "# To compute the variance, we square the deviations, add, \n",
    "# and divide by the number of data points\n",
    "\n",
    "def variance(data):\n",
    "    squares = map(lambda x: x*x, deviation(data))\n",
    "    return sum(squares)/len(data)\n",
    "\n",
    "variance(foo)\n",
    "\n",
    "# remark on N versus N - 1"
   ]
  },
  {
   "cell_type": "code",
   "execution_count": null,
   "metadata": {},
   "outputs": [],
   "source": [
    "# Finally, the standard deviation is the square root of the variance:\n",
    "import math;\n",
    "\n",
    "def stdev(data):\n",
    "    return math.sqrt(variance(data))\n",
    "    \n",
    "stdev(foo)"
   ]
  },
  {
   "cell_type": "code",
   "execution_count": null,
   "metadata": {},
   "outputs": [],
   "source": [
    "# Let's return to the statistica of our experiments:\n",
    "data = run_experiment(10, 100, experiment)\n",
    "print (\"data\", data)\n",
    "print (\"mean\", mean(data))\n",
    "print (\"variance\", variance(data))\n",
    "print (\"stdev\", stdev(data))"
   ]
  },
  {
   "cell_type": "code",
   "execution_count": null,
   "metadata": {},
   "outputs": [],
   "source": [
    "# Let's package the previous computations for future use\n",
    "\n",
    "def statistics(data):\n",
    "    print (\"data\", data)\n",
    "    print (\"mean\", mean(data))\n",
    "    print (\"variance\", variance(data))\n",
    "    print (\"stdev\", stdev(data))"
   ]
  },
  {
   "cell_type": "code",
   "execution_count": null,
   "metadata": {},
   "outputs": [],
   "source": [
    "# The data above was 'data = run_experiment(10, 100, experiment)'\n",
    "# Let's re-run the experiment like this, varying one parameter:\n",
    "\n",
    "data = run_experiment(10, 1000, experiment);\n",
    "\n",
    "statistics(data)"
   ]
  },
  {
   "cell_type": "code",
   "execution_count": null,
   "metadata": {},
   "outputs": [],
   "source": [
    "# And again:\n",
    "\n",
    "data = run_experiment(10, 10000, experiment);\n",
    "\n",
    "statistics(data)"
   ]
  },
  {
   "cell_type": "markdown",
   "metadata": {},
   "source": [
    "## 1.7 More Graphs\n",
    "\n",
    "We will make more serious use of the `numpy` library\n",
    "in this section."
   ]
  },
  {
   "cell_type": "code",
   "execution_count": 8,
   "metadata": {},
   "outputs": [
    {
     "data": {
      "image/png": "[encoded data removed]",
      "text/plain": [
       "<Figure size 432x288 with 1 Axes>"
      ]
     },
     "metadata": {
      "needs_background": "light"
     },
     "output_type": "display_data"
    }
   ],
   "source": [
    "# We will graph a Fourier\n",
    "\n",
    "import matplotlib.pyplot as plt\n",
    "%matplotlib inline\n",
    "import numpy as np\n",
    "\n",
    "t = np.arange(0.0, 2.01, 0.01)  # an array of numbers, 0, 0.01, 0.02, ..., 2.00\n",
    "df = 1.0\n",
    "s = np.sin(3.1416*t) + (df*1.0/3.0)*np.sin(3*np.pi*t) + (df*1.0/5.0)*np.sin(5*np.pi*t)\n",
    "\n",
    "# Each term of the above, e.g., np.sin(3.14168*t) is an arrary of numbers:\n",
    "# A numpy function f applied to array([a,b,c, ...]) is array([f(a), f(b), f(c), ...])\n",
    "# One can add numpy arrrays and multiply them by scalars (as one sees above).\n",
    "# If a = array([x1, x1, ... ]) and b = array([y1, y2, ... ]) are two numpty \n",
    "# arrays the then plt.plot(a, b) will plot the segements joining successive \n",
    "# pairs of points (x1, y1), (x2, y2), etc.\n",
    "\n",
    "abscissa = np.zeros(len(t))\n",
    "\n",
    "plt.plot(t, s)\n",
    "plt.plot(t, abscissa, color='black', linewidth=1.0 )\n",
    "\n",
    "plt.savefig(\"fourier.png\")\n",
    "plt.show()"
   ]
  },
  {
   "cell_type": "code",
   "execution_count": 4,
   "metadata": {},
   "outputs": [
    {
     "name": "stdout",
     "output_type": "stream",
     "text": [
      "[0.   0.01 0.02 0.03 0.04 0.05 0.06 0.07 0.08 0.09 0.1  0.11 0.12 0.13\n",
      " 0.14 0.15 0.16 0.17 0.18 0.19 0.2  0.21 0.22 0.23 0.24 0.25 0.26 0.27\n",
      " 0.28 0.29 0.3  0.31 0.32 0.33 0.34 0.35 0.36 0.37 0.38 0.39 0.4  0.41\n",
      " 0.42 0.43 0.44 0.45 0.46 0.47 0.48 0.49 0.5  0.51 0.52 0.53 0.54 0.55\n",
      " 0.56 0.57 0.58 0.59 0.6  0.61 0.62 0.63 0.64 0.65 0.66 0.67 0.68 0.69\n",
      " 0.7  0.71 0.72 0.73 0.74 0.75 0.76 0.77 0.78 0.79 0.8  0.81 0.82 0.83\n",
      " 0.84 0.85 0.86 0.87 0.88 0.89 0.9  0.91 0.92 0.93 0.94 0.95 0.96 0.97\n",
      " 0.98 0.99 1.   1.01 1.02 1.03 1.04 1.05 1.06 1.07 1.08 1.09 1.1  1.11\n",
      " 1.12 1.13 1.14 1.15 1.16 1.17 1.18 1.19 1.2  1.21 1.22 1.23 1.24 1.25\n",
      " 1.26 1.27 1.28 1.29 1.3  1.31 1.32 1.33 1.34 1.35 1.36 1.37 1.38 1.39\n",
      " 1.4  1.41 1.42 1.43 1.44 1.45 1.46 1.47 1.48 1.49 1.5  1.51 1.52 1.53\n",
      " 1.54 1.55 1.56 1.57 1.58 1.59 1.6  1.61 1.62 1.63 1.64 1.65 1.66 1.67\n",
      " 1.68 1.69 1.7  1.71 1.72 1.73 1.74 1.75 1.76 1.77 1.78 1.79 1.8  1.81\n",
      " 1.82 1.83 1.84 1.85 1.86 1.87 1.88 1.89 1.9  1.91 1.92 1.93 1.94 1.95\n",
      " 1.96 1.97 1.98 1.99 2.  ]\n"
     ]
    }
   ],
   "source": [
    "print(t)"
   ]
  },
  {
   "cell_type": "code",
   "execution_count": null,
   "metadata": {},
   "outputs": [],
   "source": []
  }
 ],
 "metadata": {
  "kernelspec": {
   "display_name": "Python 3",
   "language": "python",
   "name": "python3"
  },
  "language_info": {
   "codemirror_mode": {
    "name": "ipython",
    "version": 3
   },
   "file_extension": ".py",
   "mimetype": "text/x-python",
   "name": "python",
   "nbconvert_exporter": "python",
   "pygments_lexer": "ipython3",
   "version": "3.7.1"
  }
 },
 "nbformat": 4,
 "nbformat_minor": 2
}
