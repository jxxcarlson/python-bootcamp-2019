{
 "cells": [
  {
   "cell_type": "code",
   "execution_count": 99,
   "metadata": {},
   "outputs": [],
   "source": [
    "# Portfolio Theory\n",
    "# Reference: http://www.its.caltech.edu/~rosentha/courses/BEM103/Readings/JWCh07.pdf\n",
    "#            https://www.math.ust.hk/~maykwok/courses/ma362/Topic2.pdf\n",
    "#            https://sites.math.washington.edu/~burke/crs/408/fin-proj/mark1.pdf\n",
    "#            http://www.columbia.edu/~mh2078/FoundationsFE/MeanVariance-CAPM.pdf\n",
    "#            https://www.sr-sv.com/understanding-equity-bond-return-correlation/\n",
    "#            http://people.stern.nyu.edu/wsilber/Note%20on%20Covariance%20and%20Correlation.pdf\n",
    "#            http://faculty.baruch.cuny.edu/ryao/fin3710/HW4_Solution.pdf\n",
    "#            https://www.google.com/url?sa=t&rct=j&q=&esrc=s&source=web&cd=26&ved=2ahUKEwiWsdGhwK3iAhVMcq0KHX9wACQ4FBAWMAV6BAgBEAI&url=http%3A%2F%2Fwww.unm.edu%2F~maj%2FInvestments%2FChap006%2520part1.ppt&usg=AOvVaw0Edtmnv3_IRIU-Hq-lpIv5\n",
    "\n",
    "#            https://towardsdatascience.com/efficient-frontier-portfolio-optimisation-in-python-e7844051e7f\n",
    "#            https://blog.quantopian.com/markowitz-portfolio-optimization-2/\n",
    "#            https://pypi.org/project/PyPortfolioOpt/\n",
    "#            https://www.pythonforfinance.net/2017/01/21/investment-portfolio-optimisation-with-python/\n",
    "\n",
    "import numpy as np\n",
    "import math\n",
    "import matplotlib.pyplot as plt"
   ]
  },
  {
   "cell_type": "code",
   "execution_count": 124,
   "metadata": {},
   "outputs": [],
   "source": [
    "w = np.array([0.2, 0.2, 0.2, 0.2, 0.2])\n",
    "returns = np.array([15.1, 12.5, 14.7, 9.02, 17.68])\n",
    "cov = np.array([[2.3, 0.93, 0.62, 0.74, -0.23],\n",
    "               [0.93, 1.40, 0.22, 0.56, 0.26],\n",
    "               [0.62, 0.22, 1.8, 0.78, -0.27],\n",
    "               [0.74, 0.56, 0.78, 3.40, -0.56],\n",
    "               [-0.23, 0.26, -0.27, -0.56, 2.60]])"
   ]
  },
  {
   "cell_type": "code",
   "execution_count": null,
   "metadata": {},
   "outputs": [],
   "source": [
    "w = np.array([0.2, 0.2, 0.2, 0.2, 0.2])\n",
    "returns = np.array([15.1, 12.5, 14.7, 9.02, 17.68])\n",
    "cov = np.array([[2.3, 0.93, 0.62, 0.74, -0.23],\n",
    "               [0.93, 1.40, 0.22, 0.56, 0.26],\n",
    "               [0.62, 0.22, 1.8, 0.78, -0.27],\n",
    "               [0.74, 0.56, 0.78, 3.40, -0.56],\n",
    "               [-0.23, 0.26, -0.27, -0.56, 2.60]])"
   ]
  },
  {
   "cell_type": "code",
   "execution_count": 145,
   "metadata": {},
   "outputs": [],
   "source": [
    "w = np.array([0.5, 0.5])\n",
    "returns = np.array([0.09122867, 0.17416126])\n",
    "cov = np.array([[78186.16,  7285.84],\n",
    "       [ 7285.84,   752.96]])"
   ]
  },
  {
   "cell_type": "code",
   "execution_count": 137,
   "metadata": {},
   "outputs": [],
   "source": [
    "w1 = np.array([1.0, 0])\n",
    "w = np.array([0.5, 0.5])\n",
    "w2 = np.array([0, 1.0])\n",
    "returns = np.array([9, 15])\n",
    "cov = np.array([[529.9, 110.4], [110.4, 1024.0]])"
   ]
  },
  {
   "cell_type": "code",
   "execution_count": 146,
   "metadata": {},
   "outputs": [
    {
     "data": {
      "text/plain": [
       "array([[78186.16,  7285.84],\n",
       "       [ 7285.84,   752.96]])"
      ]
     },
     "execution_count": 146,
     "metadata": {},
     "output_type": "execute_result"
    }
   ],
   "source": [
    "cov"
   ]
  },
  {
   "cell_type": "code",
   "execution_count": 159,
   "metadata": {},
   "outputs": [],
   "source": [
    "def portfolio_return_(w, r):\n",
    "    return np.dot(w,r)\n",
    "\n",
    "def portfolio_risk_(w, c):\n",
    "    v = np.dot(c, w)\n",
    "    return math.sqrt(np.dot(w, v))\n",
    "\n",
    "def portfolio_return(w):\n",
    "    return portfolio_return_(w, returns)\n",
    "    \n",
    "def portfolio_risk(w):   \n",
    "    return round(portfolio_risk_(w, cov),2)\n",
    "\n",
    "v_return = np.vectorize(portfolio_return)\n",
    "v_risk = np.vectorize(portfolio_risk)"
   ]
  },
  {
   "cell_type": "code",
   "execution_count": 160,
   "metadata": {},
   "outputs": [
    {
     "data": {
      "text/plain": [
       "0.132694965"
      ]
     },
     "execution_count": 160,
     "metadata": {},
     "output_type": "execute_result"
    }
   ],
   "source": [
    "portfolio_return(w)"
   ]
  },
  {
   "cell_type": "code",
   "execution_count": 161,
   "metadata": {},
   "outputs": [
    {
     "data": {
      "text/plain": [
       "152.9"
      ]
     },
     "execution_count": 161,
     "metadata": {},
     "output_type": "execute_result"
    }
   ],
   "source": [
    "portfolio_risk(w)"
   ]
  },
  {
   "cell_type": "code",
   "execution_count": 150,
   "metadata": {},
   "outputs": [
    {
     "data": {
      "text/plain": [
       "[array([0.5383137, 0.4616863]),\n",
       " array([0.75405207, 0.24594793]),\n",
       " array([0.68023184, 0.31976816])]"
      ]
     },
     "execution_count": 150,
     "metadata": {},
     "output_type": "execute_result"
    }
   ],
   "source": [
    "def f(v): \n",
    "    return v/np.sum(v)\n",
    "\n",
    "rw1 = list(np.random.rand(1000, len(w)))\n",
    "rw2 = list(map(f, rw1))\n",
    "rw2[0:3]"
   ]
  },
  {
   "cell_type": "code",
   "execution_count": 151,
   "metadata": {},
   "outputs": [],
   "source": [
    "rets = list(map(portfolio_return, rw2))\n",
    "risks = list(map(portfolio_risk, rw2))"
   ]
  },
  {
   "cell_type": "code",
   "execution_count": 152,
   "metadata": {},
   "outputs": [
    {
     "data": {
      "text/plain": [
       "<matplotlib.collections.PathCollection at 0x11f041eb8>"
      ]
     },
     "execution_count": 152,
     "metadata": {},
     "output_type": "execute_result"
    },
    {
     "data": {
      "image/png": "[encoded data removed]",
      "text/plain": [
       "<Figure size 720x432 with 1 Axes>"
      ]
     },
     "metadata": {
      "needs_background": "light"
     },
     "output_type": "display_data"
    }
   ],
   "source": [
    "plt.figure(figsize=[10,6])\n",
    "plt.scatter(risks, rets)\n"
   ]
  },
  {
   "cell_type": "code",
   "execution_count": null,
   "metadata": {},
   "outputs": [],
   "source": []
  }
 ],
 "metadata": {
  "kernelspec": {
   "display_name": "Python 3",
   "language": "python",
   "name": "python3"
  },
  "language_info": {
   "codemirror_mode": {
    "name": "ipython",
    "version": 3
   },
   "file_extension": ".py",
   "mimetype": "text/x-python",
   "name": "python",
   "nbconvert_exporter": "python",
   "pygments_lexer": "ipython3",
   "version": "3.7.1"
  }
 },
 "nbformat": 4,
 "nbformat_minor": 2
}
