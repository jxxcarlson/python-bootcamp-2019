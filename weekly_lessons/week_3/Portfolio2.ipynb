{
 "cells": [
  {
   "cell_type": "code",
   "execution_count": 99,
   "metadata": {},
   "outputs": [],
   "source": [
    "# Portfolio Theory\n",
    "# Reference: http://www.its.caltech.edu/~rosentha/courses/BEM103/Readings/JWCh07.pdf\n",
    "#            https://www.math.ust.hk/~maykwok/courses/ma362/Topic2.pdf\n",
    "#            https://www.sr-sv.com/understanding-equity-bond-return-correlation/\n",
    "#            http://people.stern.nyu.edu/wsilber/Note%20on%20Covariance%20and%20Correlation.pdf\n",
    "#            http://faculty.baruch.cuny.edu/ryao/fin3710/HW4_Solution.pdf\n",
    "#            https://www.google.com/url?sa=t&rct=j&q=&esrc=s&source=web&cd=26&ved=2ahUKEwiWsdGhwK3iAhVMcq0KHX9wACQ4FBAWMAV6BAgBEAI&url=http%3A%2F%2Fwww.unm.edu%2F~maj%2FInvestments%2FChap006%2520part1.ppt&usg=AOvVaw0Edtmnv3_IRIU-Hq-lpIv5\n",
    "\n",
    "import numpy as np\n",
    "import math\n",
    "import matplotlib.pyplot as plt"
   ]
  },
  {
   "cell_type": "code",
   "execution_count": 100,
   "metadata": {},
   "outputs": [],
   "source": [
    "w = np.array([0.2, 0.2, 0.2, 0.2, 0.2])\n",
    "returns = np.array([15.1, 12.5, 14.7, 9.02, 17.68])\n",
    "cov = np.array([[2.3, 0.93, 0.62, 0.74, -0.23],\n",
    "               [0.93, 1.40, 0.22, 0.56, 0.26],\n",
    "               [0.62, 0.22, 1.8, 0.78, -0.27],\n",
    "               [0.74, 0.56, 0.78, 3.40, -0.56],\n",
    "               [-0.23, 0.26, -0.27, -0.56, 2.60]])"
   ]
  },
  {
   "cell_type": "code",
   "execution_count": 101,
   "metadata": {},
   "outputs": [
    {
     "data": {
      "text/plain": [
       "array([[ 2.3 ,  0.93,  0.62,  0.74, -0.23],\n",
       "       [ 0.93,  1.4 ,  0.22,  0.56,  0.26],\n",
       "       [ 0.62,  0.22,  1.8 ,  0.78, -0.27],\n",
       "       [ 0.74,  0.56,  0.78,  3.4 , -0.56],\n",
       "       [-0.23,  0.26, -0.27, -0.56,  2.6 ]])"
      ]
     },
     "execution_count": 101,
     "metadata": {},
     "output_type": "execute_result"
    }
   ],
   "source": [
    "cov"
   ]
  },
  {
   "cell_type": "code",
   "execution_count": 102,
   "metadata": {},
   "outputs": [],
   "source": [
    "def portfolio_return_(w, r):\n",
    "    return np.dot(w,r)\n",
    "\n",
    "def portfolio_risk_(w, c):\n",
    "    v = np.dot(c, w)\n",
    "    return np.dot(w, v)\n",
    "\n",
    "def portfolio_return(w):\n",
    "    return portfolio_return_(w, returns)\n",
    "    \n",
    "def portfolio_risk(w):   \n",
    "    return portfolio_risk_(w, cov)\n",
    "\n",
    "v_return = np.vectorize(portfolio_return)\n",
    "v_risk = np.vectorize(portfolio_risk)"
   ]
  },
  {
   "cell_type": "code",
   "execution_count": 103,
   "metadata": {},
   "outputs": [
    {
     "data": {
      "text/plain": [
       "13.8"
      ]
     },
     "execution_count": 103,
     "metadata": {},
     "output_type": "execute_result"
    }
   ],
   "source": [
    "portfolio_return(w)"
   ]
  },
  {
   "cell_type": "code",
   "execution_count": 104,
   "metadata": {},
   "outputs": [
    {
     "data": {
      "text/plain": [
       "0.704"
      ]
     },
     "execution_count": 104,
     "metadata": {},
     "output_type": "execute_result"
    }
   ],
   "source": [
    "portfolio_risk(w)"
   ]
  },
  {
   "cell_type": "code",
   "execution_count": 105,
   "metadata": {},
   "outputs": [
    {
     "data": {
      "text/plain": [
       "[array([0.08508362, 0.10357762, 0.25918744, 0.25553292, 0.2966184 ]),\n",
       " array([0.2346306 , 0.24370182, 0.12273099, 0.05506775, 0.34386883]),\n",
       " array([0.23920764, 0.22048203, 0.21672887, 0.14459639, 0.17898507])]"
      ]
     },
     "execution_count": 105,
     "metadata": {},
     "output_type": "execute_result"
    }
   ],
   "source": [
    "def f(v): \n",
    "    return v/np.sum(v)\n",
    "\n",
    "rw1 = list(np.random.rand(1000, 5))\n",
    "rw2 = list(map(f, rw1))\n",
    "rw2[0:3]"
   ]
  },
  {
   "cell_type": "code",
   "execution_count": 95,
   "metadata": {},
   "outputs": [],
   "source": [
    "rets = list(map(portfolio_return, rw2))\n",
    "risks = list(map(portfolio_risk, rw2))"
   ]
  },
  {
   "cell_type": "code",
   "execution_count": 107,
   "metadata": {},
   "outputs": [
    {
     "data": {
      "text/plain": [
       "<matplotlib.collections.PathCollection at 0x11e6743c8>"
      ]
     },
     "execution_count": 107,
     "metadata": {},
     "output_type": "execute_result"
    },
    {
     "data": {
      "image/png": "[encoded data removed]",
      "text/plain": [
       "<Figure size 432x288 with 1 Axes>"
      ]
     },
     "metadata": {
      "needs_background": "light"
     },
     "output_type": "display_data"
    }
   ],
   "source": [
    "plt.scatter(risks, rets)\n"
   ]
  }
 ],
 "metadata": {
  "kernelspec": {
   "display_name": "Python 3",
   "language": "python",
   "name": "python3"
  },
  "language_info": {
   "codemirror_mode": {
    "name": "ipython",
    "version": 3
   },
   "file_extension": ".py",
   "mimetype": "text/x-python",
   "name": "python",
   "nbconvert_exporter": "python",
   "pygments_lexer": "ipython3",
   "version": "3.7.1"
  }
 },
 "nbformat": 4,
 "nbformat_minor": 2
}
