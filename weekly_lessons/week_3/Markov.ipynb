{
 "cells": [
  {
   "cell_type": "code",
   "execution_count": null,
   "metadata": {},
   "outputs": [],
   "source": [
    "# PageRank references: \n",
    "#   http://blog.kleinproject.org/?p=280\n",
    "\n",
    "# States: Sunny, Cloudy, Rainy\n",
    "\n",
    "from numpy.random import choice\n",
    "import numpy as np\n",
    "\n",
    "states = ['S', 'C', 'R']\n",
    "def nextState(state):\n",
    "    if state == 'S':\n",
    "        return choice(states, p=[0.8, 0.15, 0.05])\n",
    "    elif state == 'C':\n",
    "        return choice(states, p=[0.2, 0.5, 0.3])\n",
    "    else:\n",
    "        return choice(states, p=[0.2, 0.2, 0.6])\n",
    "        "
   ]
  },
  {
   "cell_type": "code",
   "execution_count": null,
   "metadata": {},
   "outputs": [],
   "source": [
    "nextState('S')"
   ]
  },
  {
   "cell_type": "code",
   "execution_count": null,
   "metadata": {},
   "outputs": [],
   "source": [
    "def run_as_string(initial_state, n):\n",
    "    output = initial_state\n",
    "    for i in range(0, n):\n",
    "        s = nextState(output[-1])\n",
    "        output = output + s\n",
    "    return output "
   ]
  },
  {
   "cell_type": "code",
   "execution_count": null,
   "metadata": {},
   "outputs": [],
   "source": [
    "run_as_string('S', 20)"
   ]
  },
  {
   "cell_type": "code",
   "execution_count": null,
   "metadata": {},
   "outputs": [],
   "source": [
    "def run(initial_state, n):\n",
    "    output = [initial_state]\n",
    "    for i in range(0, n):\n",
    "        s = nextState(output[-1])\n",
    "        output.append(s)\n",
    "    return output\n",
    "\n",
    "print(run('S', 20))\n",
    "    "
   ]
  },
  {
   "cell_type": "code",
   "execution_count": null,
   "metadata": {},
   "outputs": [],
   "source": [
    "def counts(input):\n",
    "    output = [0,0,0]\n",
    "    for state in input:\n",
    "        if state == 'S':\n",
    "            output[0] = output[0] + 1\n",
    "        elif state == 'R':\n",
    "            output[1] = output[1] + 1\n",
    "        else:\n",
    "            output[2] = output[2] + 1\n",
    "    return np.array(output)"
   ]
  },
  {
   "cell_type": "code",
   "execution_count": null,
   "metadata": {},
   "outputs": [],
   "source": [
    "counts(run('S',1000))"
   ]
  },
  {
   "cell_type": "code",
   "execution_count": null,
   "metadata": {},
   "outputs": [],
   "source": [
    "counts(run_as_string('S',1000))"
   ]
  },
  {
   "cell_type": "code",
   "execution_count": null,
   "metadata": {},
   "outputs": [],
   "source": [
    "def frequencies(input):\n",
    "    return counts(input)/len(input)"
   ]
  },
  {
   "cell_type": "code",
   "execution_count": null,
   "metadata": {},
   "outputs": [],
   "source": [
    "frequencies(run('S', 100))"
   ]
  },
  {
   "cell_type": "code",
   "execution_count": null,
   "metadata": {},
   "outputs": [],
   "source": [
    "frequencies(run('S', 1000))"
   ]
  },
  {
   "cell_type": "code",
   "execution_count": null,
   "metadata": {},
   "outputs": [],
   "source": [
    "frequencies(run('S', 100000))"
   ]
  },
  {
   "cell_type": "code",
   "execution_count": null,
   "metadata": {},
   "outputs": [],
   "source": [
    "# The secret revealed!\n",
    "\n",
    "M = np.array([[0.8, 0.2, 0.2], [0.15, 0.5, 0.2], [0.05, 0.3, 0.6]])"
   ]
  },
  {
   "cell_type": "code",
   "execution_count": null,
   "metadata": {},
   "outputs": [],
   "source": [
    "def iterate(A,v,n):\n",
    "    for i in range(0,n):\n",
    "        v = np.dot(A,v)\n",
    "    return v\n",
    "\n",
    "s = np.array([1,0,0])"
   ]
  },
  {
   "cell_type": "code",
   "execution_count": null,
   "metadata": {},
   "outputs": [],
   "source": [
    "iterate(M, s, 3)"
   ]
  },
  {
   "cell_type": "code",
   "execution_count": null,
   "metadata": {},
   "outputs": [],
   "source": [
    "iterate(M, s, 4)"
   ]
  },
  {
   "cell_type": "code",
   "execution_count": null,
   "metadata": {},
   "outputs": [],
   "source": [
    "iterate(M, s, 10)"
   ]
  },
  {
   "cell_type": "code",
   "execution_count": null,
   "metadata": {},
   "outputs": [],
   "source": [
    "iterate(M, s, 100)"
   ]
  },
  {
   "cell_type": "code",
   "execution_count": null,
   "metadata": {},
   "outputs": [],
   "source": []
  }
 ],
 "metadata": {
  "kernelspec": {
   "display_name": "Python 3",
   "language": "python",
   "name": "python3"
  },
  "language_info": {
   "codemirror_mode": {
    "name": "ipython",
    "version": 3
   },
   "file_extension": ".py",
   "mimetype": "text/x-python",
   "name": "python",
   "nbconvert_exporter": "python",
   "pygments_lexer": "ipython3",
   "version": "3.7.1"
  }
 },
 "nbformat": 4,
 "nbformat_minor": 2
}
