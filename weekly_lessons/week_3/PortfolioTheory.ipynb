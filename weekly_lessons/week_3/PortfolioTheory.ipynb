{
 "cells": [
  {
   "cell_type": "code",
   "execution_count": 155,
   "metadata": {},
   "outputs": [],
   "source": [
    "# Portfolio Theory\n",
    "# Reference: http://www.its.caltech.edu/~rosentha/courses/BEM103/Readings/JWCh07.pdf\n",
    "#            https://www.math.ust.hk/~maykwok/courses/ma362/Topic2.pdf\n",
    "\n",
    "import numpy as np\n",
    "import math\n",
    "import matplotlib.pyplot as plt"
   ]
  },
  {
   "cell_type": "code",
   "execution_count": 156,
   "metadata": {},
   "outputs": [],
   "source": [
    "returns = np.array([9, 15])\n",
    "cov = np.array([[529.9, 110.4], [110.4, 1024.0]])"
   ]
  },
  {
   "cell_type": "code",
   "execution_count": 157,
   "metadata": {},
   "outputs": [],
   "source": [
    "def portfolio_return(w1,w2, r):\n",
    "    w = np.array([w1,w2])\n",
    "    return round(np.dot(w,r),2)\n",
    "\n",
    "def portfolio_risk(w1,w2, c):\n",
    "    weights_ = np.array([w1,w2])\n",
    "    transformed_weights = np.dot(c, weights_)\n",
    "    return round(math.sqrt(np.dot(weights_, transformed_weights)),2)\n",
    "    \n",
    "def portfolio_eval(w, r, c):\n",
    "    ret = round(portfolio_return(w, 1-w, r),2)\n",
    "    rsk = round(portfolio_risk(w,1-w, c), 2)\n",
    "    return (ret, rsk)\n",
    "\n",
    "def mpe(w):\n",
    "    return portfolio_eval(w, returns, cov)"
   ]
  },
  {
   "cell_type": "code",
   "execution_count": 158,
   "metadata": {},
   "outputs": [
    {
     "data": {
      "text/plain": [
       "(15.0, 32.0)"
      ]
     },
     "execution_count": 158,
     "metadata": {},
     "output_type": "execute_result"
    }
   ],
   "source": [
    "mpe(0.0)\n"
   ]
  },
  {
   "cell_type": "code",
   "execution_count": 159,
   "metadata": {},
   "outputs": [
    {
     "data": {
      "text/plain": [
       "array([0. , 0.1, 0.2, 0.3, 0.4, 0.5, 0.6, 0.7, 0.8, 0.9, 1. ])"
      ]
     },
     "execution_count": 159,
     "metadata": {},
     "output_type": "execute_result"
    }
   ],
   "source": [
    "weights = np.linspace(0, 1, 11, endpoint=True)\n",
    "weights"
   ]
  },
  {
   "cell_type": "code",
   "execution_count": 162,
   "metadata": {},
   "outputs": [
    {
     "name": "stdout",
     "output_type": "stream",
     "text": [
      "[15.  14.4 13.8 13.2 12.6 12.  11.4 10.8 10.2  9.6  9. ]\n",
      "[32.   29.23 26.68 24.41 22.5  21.06 20.19 19.95 20.38 21.43 23.02]\n"
     ]
    }
   ],
   "source": [
    "my_return = np.vectorize(lambda w: portfolio_return(w,1-w, returns))\n",
    "my_risk = np.vectorize(lambda w: portfolio_risk(w,1-w,cov))\n",
    "\n",
    "portfolio_returns = my_return(weights)\n",
    "portfolio_risks = my_risk(weights)\n",
    "\n",
    "print(portfolio_returns)\n",
    "print(portfolio_risks)"
   ]
  },
  {
   "cell_type": "code",
   "execution_count": 163,
   "metadata": {},
   "outputs": [
    {
     "data": {
      "text/plain": [
       "<matplotlib.collections.PathCollection at 0x118ddc9e8>"
      ]
     },
     "execution_count": 163,
     "metadata": {},
     "output_type": "execute_result"
    },
    {
     "data": {
      "image/png": "[encoded data removed]",
      "text/plain": [
       "<Figure size 432x288 with 1 Axes>"
      ]
     },
     "metadata": {
      "needs_background": "light"
     },
     "output_type": "display_data"
    }
   ],
   "source": [
    "plt.scatter( portfolio_risks, portfolio_returns,)"
   ]
  },
  {
   "cell_type": "code",
   "execution_count": 166,
   "metadata": {},
   "outputs": [
    {
     "name": "stdout",
     "output_type": "stream",
     "text": [
      "0.0 (15.0, 32.0)\n",
      "0.1 (14.4, 29.23)\n",
      "0.2 (13.8, 26.68)\n",
      "0.3 (13.2, 24.41)\n",
      "0.4 (12.6, 22.5)\n",
      "0.5 (12.0, 21.06)\n",
      "0.6 (11.4, 20.19)\n",
      "0.7 (10.8, 19.95)\n",
      "0.8 (10.2, 20.38)\n",
      "0.9 (9.6, 21.43)\n",
      "1.0 (9.0, 23.02)\n"
     ]
    }
   ],
   "source": [
    "for w in weights:\n",
    "    print(round(w,1), mpe(w))"
   ]
  },
  {
   "cell_type": "code",
   "execution_count": null,
   "metadata": {},
   "outputs": [],
   "source": [
    "# NOTICE: w = 0.7, 70% bonds gives better run and less risk than 100% bonds (!!!)"
   ]
  }
 ],
 "metadata": {
  "kernelspec": {
   "display_name": "Python 3",
   "language": "python",
   "name": "python3"
  },
  "language_info": {
   "codemirror_mode": {
    "name": "ipython",
    "version": 3
   },
   "file_extension": ".py",
   "mimetype": "text/x-python",
   "name": "python",
   "nbconvert_exporter": "python",
   "pygments_lexer": "ipython3",
   "version": "3.7.1"
  }
 },
 "nbformat": 4,
 "nbformat_minor": 2
}
