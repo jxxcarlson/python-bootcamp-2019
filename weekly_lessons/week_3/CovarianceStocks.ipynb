{
 "cells": [
  {
   "cell_type": "code",
   "execution_count": 1,
   "metadata": {},
   "outputs": [],
   "source": [
    "import numpy as np\n",
    "import math"
   ]
  },
  {
   "cell_type": "code",
   "execution_count": 2,
   "metadata": {},
   "outputs": [],
   "source": [
    "# S&P data for five years, 2013-2017\n",
    "sp = np.array([1692, 1978, 1884, 2151, 2519])\n",
    "# ABC corporation\n",
    "abc = np.array([68, 102, 110, 112, 154])"
   ]
  },
  {
   "cell_type": "code",
   "execution_count": 24,
   "metadata": {},
   "outputs": [
    {
     "name": "stdout",
     "output_type": "stream",
     "text": [
      "[ 0.1445905  -0.04989384  0.12412831  0.14608972]\n",
      "0.09122867077935679\n"
     ]
    }
   ],
   "source": [
    "# Compute returns\n",
    "\n",
    "def rates(time_series):\n",
    "    deltas = np.diff(time_series)\n",
    "    rates = deltas/time_series[1:]\n",
    "    return rates\n",
    "\n",
    "def mean_rate(times_series):\n",
    "    return np.mean(rates(times_series))\n",
    "\n",
    "print(rates(sp))\n",
    "print(mean_rate(sp))"
   ]
  },
  {
   "cell_type": "code",
   "execution_count": 25,
   "metadata": {},
   "outputs": [
    {
     "data": {
      "text/plain": [
       "[0.09122867077935679, 0.17416125541125538]"
      ]
     },
     "execution_count": 25,
     "metadata": {},
     "output_type": "execute_result"
    }
   ],
   "source": [
    "rates_of_return = [mean_rate(sp), mean_rate(abc)]\n",
    "rates_of_return"
   ]
  },
  {
   "cell_type": "code",
   "execution_count": 31,
   "metadata": {},
   "outputs": [
    {
     "name": "stdout",
     "output_type": "stream",
     "text": [
      "1 0.09122867077935679\n",
      "2 0.1326949630953061\n",
      "3 0.17416125541125538\n"
     ]
    }
   ],
   "source": [
    "# Portfolio return\n",
    "\n",
    "def portfolio_return(weights):\n",
    "  return np.dot(weights, rates_of_return)\n",
    "\n",
    "w1 = np.array([1.0, 0.0])\n",
    "w2 = np.array([0.5, 0.5])\n",
    "w3 = np.array([0.0, 1.0])\n",
    "\n",
    "print(1, portfolio_return(w1))\n",
    "print(2, portfolio_return(w2))\n",
    "print(3, portfolio_return(w3))"
   ]
  },
  {
   "cell_type": "code",
   "execution_count": 28,
   "metadata": {},
   "outputs": [
    {
     "data": {
      "text/plain": [
       "(0.1367458343689953, 0.25128311921087904)"
      ]
     },
     "execution_count": 28,
     "metadata": {},
     "output_type": "execute_result"
    }
   ],
   "source": [
    "# Compute risks\n",
    "\n",
    "def risk(time_series):\n",
    "    mean_ = np.mean(time_series)\n",
    "    var_  = np.var(time_series)\n",
    "    risk_ = math.sqrt(var_)/mean_\n",
    "    return risk_\n",
    "\n",
    "risk(sp), risk(abc)"
   ]
  },
  {
   "cell_type": "code",
   "execution_count": 32,
   "metadata": {},
   "outputs": [
    {
     "name": "stdout",
     "output_type": "stream",
     "text": [
      "1 0.1367458343689953\n",
      "2 0.19401447678993716\n",
      "3 0.25128311921087904\n"
     ]
    }
   ],
   "source": [
    "# Wrong way to compute portfolio risks\n",
    "\n",
    "risks = [risk(sp), risk(abc)]\n",
    "\n",
    "def portfolio_risk_bad(weights):\n",
    "    return np.dot(weights, risks)\n",
    "\n",
    "print(1, portfolio_risk_bad(w1))\n",
    "print(2, portfolio_risk_bad(w2))\n",
    "print(3, portfolio_risk_bad(w3))"
   ]
  },
  {
   "cell_type": "code",
   "execution_count": 26,
   "metadata": {},
   "outputs": [
    {
     "data": {
      "text/plain": [
       "(2044.8, 78186.16, 279.62, 0.14)"
      ]
     },
     "execution_count": 26,
     "metadata": {},
     "output_type": "execute_result"
    }
   ],
   "source": [
    "# Compute covariance\n",
    "\n",
    "sp_mean = np.mean(sp)\n",
    "sp_var = np.var(sp)\n",
    "sp_mean, sp_var, round(math.sqrt(sp_var),2), round(math.sqrt(sp_var)/sp_mean,2)"
   ]
  },
  {
   "cell_type": "code",
   "execution_count": 4,
   "metadata": {},
   "outputs": [
    {
     "data": {
      "text/plain": [
       "0.14"
      ]
     },
     "execution_count": 4,
     "metadata": {},
     "output_type": "execute_result"
    }
   ],
   "source": []
  },
  {
   "cell_type": "code",
   "execution_count": 5,
   "metadata": {},
   "outputs": [
    {
     "data": {
      "text/plain": [
       "(109.2, 752.96, 27.44, 0.25)"
      ]
     },
     "execution_count": 5,
     "metadata": {},
     "output_type": "execute_result"
    }
   ],
   "source": [
    "abc_mean = np.mean(abc)\n",
    "abc_var = np.var(abc)\n",
    "abc_mean, abc_var, round(math.sqrt(abc_var),2), round(math.sqrt(abc_var)/abc_mean,2)"
   ]
  },
  {
   "cell_type": "code",
   "execution_count": 6,
   "metadata": {},
   "outputs": [
    {
     "data": {
      "text/plain": [
       "(array([-352.8,  -66.8, -160.8,  106.2,  474.2]),\n",
       " array([-41.2,  -7.2,   0.8,   2.8,  44.8]))"
      ]
     },
     "execution_count": 6,
     "metadata": {},
     "output_type": "execute_result"
    }
   ],
   "source": [
    "def normalize(time_series):\n",
    "    return time_series - np.mean(time_series)\n",
    "\n",
    "normalize(sp), normalize(abc)"
   ]
  },
  {
   "cell_type": "code",
   "execution_count": 7,
   "metadata": {},
   "outputs": [
    {
     "data": {
      "text/plain": [
       "7285.84"
      ]
     },
     "execution_count": 7,
     "metadata": {},
     "output_type": "execute_result"
    }
   ],
   "source": [
    "def cov2(ts1, ts2):\n",
    "    nts1 = normalize(ts1)\n",
    "    nts2 = normalize(ts2)\n",
    "    n = len(nts1)\n",
    "    cov_ = np.sum(nts1*nts2)/n\n",
    "    return round(cov_, 2)\n",
    "    \n",
    "c = cov2(sp, abc)\n",
    "c"
   ]
  },
  {
   "cell_type": "code",
   "execution_count": 35,
   "metadata": {},
   "outputs": [
    {
     "data": {
      "text/plain": [
       "array([[78186.16,  7285.84],\n",
       "       [ 7285.84,   752.96]])"
      ]
     },
     "execution_count": 35,
     "metadata": {},
     "output_type": "execute_result"
    }
   ],
   "source": [
    "def covariance(ts1, ts2):\n",
    "    s11 = np.var(ts1)\n",
    "    s22 = np.var(ts2)\n",
    "    s12 = cov2(ts1,ts2)\n",
    "    return np.array([[s11, s12], [s12, s22]])\n",
    "    \n",
    "cm = covariance(sp, abc)\n",
    "cm"
   ]
  },
  {
   "cell_type": "code",
   "execution_count": 36,
   "metadata": {},
   "outputs": [
    {
     "data": {
      "text/plain": [
       "5787586.528000001"
      ]
     },
     "execution_count": 36,
     "metadata": {},
     "output_type": "execute_result"
    }
   ],
   "source": [
    "np.linalg.det(cm)"
   ]
  },
  {
   "cell_type": "code",
   "execution_count": 37,
   "metadata": {},
   "outputs": [
    {
     "data": {
      "text/plain": [
       "78939.12000000001"
      ]
     },
     "execution_count": 37,
     "metadata": {},
     "output_type": "execute_result"
    }
   ],
   "source": [
    "np.trace(cm)"
   ]
  },
  {
   "cell_type": "code",
   "execution_count": 38,
   "metadata": {},
   "outputs": [],
   "source": [
    "def portfolio_variance(weights, cov):\n",
    "    return np.dot(weights, np.dot(cov, weights))\n",
    "\n",
    "def portfolio_risk(weights, cov):\n",
    "    c = portfolio_variance(weights, cov)\n",
    "    r = math.sqrt(c)\n",
    "    return round(r,2)\n",
    "\n",
    "def portfolio_mean(weights):\n",
    "    means = [sp_mean, abc_mean]\n",
    "    return np.dot(weights, means)\n",
    "\n",
    "def portfolio_rel_risk(weights, cov):\n",
    "    c = portfolio_variance(weights, cov)\n",
    "    r = math.sqrt(c)/portfolio_mean(weights)\n",
    "    return round(r,4)\n"
   ]
  },
  {
   "cell_type": "code",
   "execution_count": 39,
   "metadata": {},
   "outputs": [
    {
     "name": "stdout",
     "output_type": "stream",
     "text": [
      "1 78186.16 279.62 0.1367\n",
      "2 23377.7 152.9 0.142\n",
      "3 752.96 27.44 0.2513\n"
     ]
    }
   ],
   "source": [
    "print(1, portfolio_variance(w1, cm), portfolio_risk(w1, cm), portfolio_rel_risk(w1, cm))\n",
    "print(2, portfolio_variance(w2, cm), portfolio_risk(w2, cm), portfolio_rel_risk(w2, cm))\n",
    "print(3, portfolio_variance(w3, cm), portfolio_risk(w3, cm), portfolio_rel_risk(w3, cm))"
   ]
  },
  {
   "cell_type": "code",
   "execution_count": null,
   "metadata": {},
   "outputs": [],
   "source": []
  }
 ],
 "metadata": {
  "kernelspec": {
   "display_name": "Python 3",
   "language": "python",
   "name": "python3"
  },
  "language_info": {
   "codemirror_mode": {
    "name": "ipython",
    "version": 3
   },
   "file_extension": ".py",
   "mimetype": "text/x-python",
   "name": "python",
   "nbconvert_exporter": "python",
   "pygments_lexer": "ipython3",
   "version": "3.7.1"
  }
 },
 "nbformat": 4,
 "nbformat_minor": 2
}
