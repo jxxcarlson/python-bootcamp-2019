{
 "cells": [
  {
   "cell_type": "code",
   "execution_count": 35,
   "metadata": {},
   "outputs": [],
   "source": [
    "# Grammar: \n",
    "#    PAL -> a PAL a | b PAL B | .. | z PAL z\n",
    "#    PAL -> LET\n",
    "#    LET -> a | b | .. | z\n",
    "\n",
    "from random import choice, randint\n",
    "from itertools import chain\n",
    "\n",
    "nonterminals = ['PAL', 'LET']\n",
    "\n",
    "def get_nonterminals(symbol_list):\n",
    "    n = len(symbol_list)\n",
    "    nt = []\n",
    "    for i in range(0,n):\n",
    "        if symbol_list[i] in nonterminals:\n",
    "            nt.append([i, symbol_list[i]])\n",
    "    return nt\n",
    "\n",
    "def is_nonterminal(symbol):\n",
    "    return (symbol in nonterminals)\n",
    "\n",
    "rhs_PAL = [['a', 'PAL', 'a'], ['b', 'PAL', 'b'], ['c', 'PAL', 'c'], ['d', 'PAL', 'd'], ['e', 'PAL', 'e']\n",
    "        , ['f', 'PAL', 'f'], ['g', 'PAL', 'g'], ['h', 'PAL', 'h'], ['i', 'PAL', 'i'], ['j', 'PAL', 'j']\n",
    "       , ['k', 'PAL', 'k'], ['l', 'PAL', 'l'], ['m', 'PAL', 'm'], ['n', 'PAL', 'n'], ['o', 'PAL', 'o']\n",
    "       , ['p', 'PAL', 'p'], ['q', 'PAL', 'q'], ['r', 'PAL', 'r'], ['s', 'PAL', 's'], ['t', 'PAL', 't']\n",
    "       , ['u', 'PAL', 'u'], ['v', 'PAL', 'v'], ['w', 'PAL', 'w'], ['x', 'PAL', 'x'], ['y', 'PAL', 'y']\n",
    "       , ['z', 'PAL', 'z']]\n",
    "\n",
    "alphabet = list('abcdefghijzklmnopqrstuvwxyz')\n",
    "\n",
    "\n",
    "def r1(symbol): \n",
    "    return choice(rhs_PAL)\n",
    "\n",
    "def r2(symbol):\n",
    "    return ['LET']\n",
    "\n",
    "\n",
    "def rule_PAL(symbol):\n",
    "    return choice([r1,r2])(symbol)\n",
    "\n",
    "\n",
    "def rule_LET(symbol): \n",
    "    return [choice(alphabet)]        \n",
    "\n",
    "def apply_rule(symbol):\n",
    "    if symbol == 'PAL':\n",
    "        return rule_PAL(symbol)\n",
    "    elif symbol == 'LET':\n",
    "        return rule_LET(symbol)\n",
    "    else:\n",
    "        return symbol\n",
    "\n",
    "def apply_random_rule_to_list(x):\n",
    "    nts = get_nonterminals(x)\n",
    "    if nts == []:\n",
    "        return x\n",
    "    [k, symbol]= choice(nts)\n",
    "    a,b,c = unzip_at(k, x)\n",
    "    bb = apply_rule(b)\n",
    "    if type(bb) == list:\n",
    "        return a + bb + c\n",
    "    else:\n",
    "        return a + [bb] + c\n",
    "   \n",
    "def is_list_of_terminals(symbol_list):\n",
    "    result = True\n",
    "    for symbol in symbol_list:\n",
    "        if not symbol in alphabet:\n",
    "            result = False\n",
    "    return result\n",
    "        \n",
    "\n",
    "def generate(n, option='quiet'):\n",
    "    x = ['PAL']\n",
    "    i = 0\n",
    "    if option == 'verbose':\n",
    "        print(i, x)\n",
    "    running = True\n",
    "    while running and i < n:\n",
    "        x = apply_random_rule_to_list(x)\n",
    "        if is_list_of_terminals(x):\n",
    "            running = False\n",
    "        i = i + 1\n",
    "        if i >= n:\n",
    "            running = False\n",
    "        if option == 'verbose':\n",
    "            print(i, x)\n",
    "    return \"\".join(x)\n",
    "\n",
    "def unzip_at(k, x):\n",
    "    a = x[:k]\n",
    "    b = x[k]\n",
    "    c = x[k+1:]\n",
    "    return [a,b,c]\n",
    "\n",
    "def randindex(x):\n",
    "    return randint(0,len(x)-1)\n",
    "\n",
    "def unzip_random(x):\n",
    "    return unzip_at(randindex(x), x)\n",
    "\n",
    "\n"
   ]
  },
  {
   "cell_type": "code",
   "execution_count": 41,
   "metadata": {},
   "outputs": [
    {
     "name": "stdout",
     "output_type": "stream",
     "text": [
      "0 ['PAL']\n",
      "1 ['n', 'PAL', 'n']\n",
      "2 ['n', 'p', 'PAL', 'p', 'n']\n",
      "3 ['n', 'p', 'LET', 'p', 'n']\n",
      "4 ['n', 'p', 'y', 'p', 'n']\n"
     ]
    },
    {
     "data": {
      "text/plain": [
       "'npypn'"
      ]
     },
     "execution_count": 41,
     "metadata": {},
     "output_type": "execute_result"
    }
   ],
   "source": [
    "generate(10, 'verbose')"
   ]
  },
  {
   "cell_type": "code",
   "execution_count": 28,
   "metadata": {},
   "outputs": [
    {
     "name": "stdout",
     "output_type": "stream",
     "text": [
      "0 bgifsfigb\n",
      "1 m\n",
      "2 mtphptm\n",
      "3 gtg\n",
      "4 a\n",
      "5 hih\n",
      "6 anvwdwvna\n",
      "7 cnc\n",
      "8 yhxhy\n",
      "9 aya\n",
      "10 z\n",
      "11 ituti\n",
      "12 u\n",
      "13 x\n",
      "14 b\n",
      "15 p\n",
      "16 axa\n",
      "17 dqd\n",
      "18 h\n",
      "19 y\n"
     ]
    }
   ],
   "source": [
    "for i in range(0,20):\n",
    "    print(i, generate(30))"
   ]
  },
  {
   "cell_type": "code",
   "execution_count": null,
   "metadata": {},
   "outputs": [],
   "source": [
    "palindromes = ['malphpdphplam', 'rafcuogtgoucfar']"
   ]
  }
 ],
 "metadata": {
  "kernelspec": {
   "display_name": "Python 3",
   "language": "python",
   "name": "python3"
  },
  "language_info": {
   "codemirror_mode": {
    "name": "ipython",
    "version": 3
   },
   "file_extension": ".py",
   "mimetype": "text/x-python",
   "name": "python",
   "nbconvert_exporter": "python",
   "pygments_lexer": "ipython3",
   "version": "3.7.1"
  }
 },
 "nbformat": 4,
 "nbformat_minor": 2
}
