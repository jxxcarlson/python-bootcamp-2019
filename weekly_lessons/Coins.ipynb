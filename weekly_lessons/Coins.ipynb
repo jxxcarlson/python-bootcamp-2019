{
 "cells": [
  {
   "cell_type": "code",
   "execution_count": null,
   "metadata": {},
   "outputs": [],
   "source": [
    "## DISCUSSION OF COIN TOSSING EXPERIMENT\n",
    "## First, we copy in the coin-tossing\n",
    "## code from the lesson, improve it, and test it"
   ]
  },
  {
   "cell_type": "code",
   "execution_count": null,
   "metadata": {},
   "outputs": [],
   "source": [
    "import random as r\n",
    "\n",
    "def coin():\n",
    "    u = r.random()\n",
    "    if u < 0.5:\n",
    "        return \"H\"\n",
    "    else:\n",
    "        return \"T\"\n",
    "    \n",
    "def run(n):\n",
    "    output = \"\"\n",
    "    for k in range(0,n):\n",
    "        output = output + coin()\n",
    "    return output\n",
    "\n",
    "def count_heads(str):\n",
    "    heads = 0\n",
    "    for letter in list(str):\n",
    "        if letter == 'H':\n",
    "            heads = heads + 1\n",
    "    return heads\n",
    "\n",
    "def run_experiment(experiment, trials):\n",
    "    results = []\n",
    "    for i in range(0, trials):\n",
    "        results = results + [experiment()]\n",
    "    return results\n",
    "\n",
    "\n",
    "def experiment():\n",
    "    return count_heads(run(100))"
   ]
  },
  {
   "cell_type": "code",
   "execution_count": null,
   "metadata": {},
   "outputs": [],
   "source": [
    "run(10)"
   ]
  },
  {
   "cell_type": "code",
   "execution_count": null,
   "metadata": {},
   "outputs": [],
   "source": [
    "experiment(), experiment(), experiment()"
   ]
  },
  {
   "cell_type": "code",
   "execution_count": null,
   "metadata": {},
   "outputs": [],
   "source": [
    "data = run_experiment(experiment, 10)"
   ]
  },
  {
   "cell_type": "code",
   "execution_count": null,
   "metadata": {},
   "outputs": [],
   "source": [
    "data"
   ]
  },
  {
   "cell_type": "code",
   "execution_count": null,
   "metadata": {},
   "outputs": [],
   "source": [
    "## Next, we copy and test the statistics code"
   ]
  },
  {
   "cell_type": "code",
   "execution_count": null,
   "metadata": {},
   "outputs": [],
   "source": [
    "import math\n",
    "\n",
    "def mean(x):\n",
    "    return (sum(x)/len(x))\n",
    "\n",
    "def delta(data, center):\n",
    "    return list(map(lambda x: x - center, data))\n",
    "\n",
    "def deviation(data):\n",
    "    return delta(data, mean(data))\n",
    "\n",
    "def variance(data):\n",
    "    squares = map(lambda x: x*x, deviation(data))\n",
    "    return sum(squares)/len(data)\n",
    "\n",
    "def stdev(data):\n",
    "    return math.sqrt(variance(data))\n",
    "\n",
    "def statistics(data):\n",
    "    print (\"mean\", mean(data))\n",
    "    print (\"variance\", variance(data))\n",
    "    print (\"stdev\", stdev(data))\n",
    "    "
   ]
  },
  {
   "cell_type": "code",
   "execution_count": null,
   "metadata": {},
   "outputs": [],
   "source": [
    "fake = [22,2,2,3]\n",
    "print(mean(fake))\n",
    "deviation(fake)"
   ]
  },
  {
   "cell_type": "code",
   "execution_count": null,
   "metadata": {},
   "outputs": [],
   "source": [
    "variance(_)"
   ]
  },
  {
   "cell_type": "code",
   "execution_count": null,
   "metadata": {},
   "outputs": [],
   "source": [
    "# We apply the statistics function to the data we have generated\n",
    "print(data)\n",
    "statistics(data)\n"
   ]
  },
  {
   "cell_type": "code",
   "execution_count": null,
   "metadata": {},
   "outputs": [],
   "source": [
    "# Theoretical results for the biniomial distribution\n",
    "# Mean = np, variance = np(1-p), \n",
    "p = 0.5\n",
    "n = 100\n",
    "n*p, n*p*(1-p), math.sqrt(n*p*(1-p))"
   ]
  },
  {
   "cell_type": "code",
   "execution_count": null,
   "metadata": {},
   "outputs": [],
   "source": [
    "# Confidence intervals:\n",
    "\n",
    "# 1 STDEV: [45, 55]\n",
    "# 2 STDEV: [40, 60]\n",
    "\n",
    "def outliers(data, mean, stdev):\n",
    "    output = []\n",
    "    low = mean - stdev\n",
    "    high = mean + stdev\n",
    "    for item in data:\n",
    "        if item < low or item > high:\n",
    "            output = output + [item]\n",
    "    return (len(output), output)\n",
    "\n",
    "print(data)\n",
    "outliers(data, 50, 5)"
   ]
  },
  {
   "cell_type": "code",
   "execution_count": null,
   "metadata": {},
   "outputs": [],
   "source": [
    "outliers(data, 50, 5)"
   ]
  },
  {
   "cell_type": "code",
   "execution_count": null,
   "metadata": {},
   "outputs": [],
   "source": [
    "# Central limit theorem: as n -> infinity, \n",
    "# Binomnial distribution -> Normal distribution\n",
    "# We have to make sense of this\n",
    "\n",
    "# Some numbers: \n",
    "#\n",
    "#    Prob(X within 1 stdev of mean) =  68%\n",
    "#    Prob(X within 2 stdev of mean) =  95%\n",
    "#    Prob(X within 3 stdev of mean) =  99.7%\n",
    "\n",
    "# Use this to interpret the results above"
   ]
  }
 ],
 "metadata": {
  "kernelspec": {
   "display_name": "Python 3",
   "language": "python",
   "name": "python3"
  },
  "language_info": {
   "codemirror_mode": {
    "name": "ipython",
    "version": 3
   },
   "file_extension": ".py",
   "mimetype": "text/x-python",
   "name": "python",
   "nbconvert_exporter": "python",
   "pygments_lexer": "ipython3",
   "version": "3.7.1"
  }
 },
 "nbformat": 4,
 "nbformat_minor": 2
}
