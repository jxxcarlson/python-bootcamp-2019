{
 "cells": [
  {
   "cell_type": "markdown",
   "metadata": {},
   "source": [
    "# Working with Data"
   ]
  },
  {
   "cell_type": "markdown",
   "metadata": {},
   "source": [
    "We will learn how to work with data on a bare-metal \n",
    "level - just raw Python.  Later we will learn to use\n",
    "(and to appreciate) powerful data manipulation packages\n",
    "like Pandas.  As you will see, a good deal of effort\n",
    "has to be put into \"cleaning\" the data and brining \n",
    "it to the right form.\n",
    "\n",
    "The first task is to read data from a file.  The file\n",
    "is \"global_temperature_anomalies.text\".  We begin \n",
    "by reading it into a string:"
   ]
  },
  {
   "cell_type": "code",
   "execution_count": null,
   "metadata": {},
   "outputs": [],
   "source": [
    "def read_file(file_name):\n",
    "    file = open(file_name)\n",
    "    data = file.read()\n",
    "    file.close()\n",
    "    return data\n",
    "\n",
    "data_as_string = read_file('data/global_temperature_anomaly.csv')\n",
    "len(data_as_string)"
   ]
  },
  {
   "cell_type": "code",
   "execution_count": null,
   "metadata": {},
   "outputs": [],
   "source": [
    "data_as_string[:600]\n",
    "\n",
    "# Note the use of slices to view just part of the data."
   ]
  },
  {
   "cell_type": "code",
   "execution_count": null,
   "metadata": {},
   "outputs": [],
   "source": [
    "# Ugh! Very hard to read. Let's split the data into list of lines.\n",
    "\n",
    "def string_to_lines(data):\n",
    "    return data.split(\"\\n\")\n",
    "\n",
    "data_as_lines = string_to_lines(data_as_string)\n",
    "\n",
    "data_as_lines[-10:]"
   ]
  },
  {
   "cell_type": "code",
   "execution_count": null,
   "metadata": {},
   "outputs": [],
   "source": [
    "# We need to get rid of lines that don't have data in them.\n",
    "# To do this we use array slices.  We will omit the first\n",
    "# seven line as well as the very last line:\n",
    "\n",
    "good_lines = data_as_lines[7:-1]  \n",
    "\n",
    "good_lines[:4]"
   ]
  },
  {
   "cell_type": "code",
   "execution_count": null,
   "metadata": {},
   "outputs": [],
   "source": [
    "# OK, this is looking much better!  But there is one more \n",
    "# step.  We have to split each line into the year and the \n",
    "# temperature anomaly:\n",
    "\n",
    "data = list(map(lambda x: x.split(\",\"), good_lines))\n",
    "\n",
    "data[:4]"
   ]
  },
  {
   "cell_type": "code",
   "execution_count": null,
   "metadata": {},
   "outputs": [],
   "source": [
    "# Once we have have done this, we can separate the \n",
    "# years from the anomalies and convert the strings to\n",
    "# floating point numbers\n",
    "\n",
    "years = list(map(lambda x: float(x[0]), data))\n",
    "anomalies = list(map(lambda x: float(x[1]), data))\n",
    "\n",
    "years[:3], anomalies[:3], len(years), len(anomalies)"
   ]
  },
  {
   "cell_type": "code",
   "execution_count": null,
   "metadata": {},
   "outputs": [],
   "source": [
    "# And now we can make a plot of the data:\n",
    "\n",
    "from matplotlib import pyplot as plt\n",
    "%matplotlib inline\n",
    "\n",
    "plt.plot(years, anomalies)\n",
    "plt.title(\"Temperature anomaly\")\n",
    "plt.ylabel(\"Degrees C\")\n",
    "plt.xlabel(\"Year\")\n",
    "plt.savefig('anomalies.png')\n",
    "\n"
   ]
  },
  {
   "cell_type": "code",
   "execution_count": null,
   "metadata": {},
   "outputs": [],
   "source": [
    "# We are now going to smooth the data using \n",
    "# moving averages.  This is a way to better\n",
    "# see long term trends unobscured by short-term\n",
    "# variation\n",
    "\n",
    "def smooth(data, window):\n",
    "  output = []\n",
    "  n = len(data)\n",
    "  for k in range(0, n - window + 1):\n",
    "      segment = data[k:(k + window)]\n",
    "      value = sum(segment)/window\n",
    "      output.append(value)\n",
    "  return output\n",
    "\n",
    "def drop_window(data, window):\n",
    "  return data[window-1:]"
   ]
  },
  {
   "cell_type": "code",
   "execution_count": null,
   "metadata": {},
   "outputs": [],
   "source": [
    "window = 10\n",
    "years2 = drop_window(years, window)\n",
    "anomalies1 = drop_window(anomalies, window)\n",
    "anomalies2 = smooth(anomalies,window)\n",
    "\n",
    "print (len(years2), len(anomalies1), len(anomalies2))\n",
    "\n",
    "plt.plot( years2, anomalies1, color='red', linestyle='solid')\n",
    "plt.plot( years2, anomalies2, color='blue', linestyle='solid')\n",
    "plt.title(\"Temperature anomaly\")\n",
    "plt.ylabel(\"Degrees C\")\n",
    "\n",
    "plt.show()\n",
    "plt.savefig('smoothed_anomalies.png')"
   ]
  },
  {
   "cell_type": "code",
   "execution_count": null,
   "metadata": {},
   "outputs": [],
   "source": [
    "# Let's find a line which \"best fits\" the data.\n",
    "# The function np.polyfit will give us the coefficents\n",
    "\n",
    "import numpy as np\n",
    "\n",
    "m, b = np.polyfit(years2, anomalies1, 1)\n",
    "m, b"
   ]
  },
  {
   "cell_type": "code",
   "execution_count": null,
   "metadata": {},
   "outputs": [],
   "source": [
    "# Using these coefficents, we define a function y(x)\n",
    "# which parameterizes the line\n",
    "\n",
    "def y(x):\n",
    "   return m*x + b\n",
    "\n",
    "# And we can use it to make a predicttion of the temperature\n",
    "# anomaly in 2040:\n",
    "\n",
    "y(2040)"
   ]
  },
  {
   "cell_type": "code",
   "execution_count": null,
   "metadata": {},
   "outputs": [],
   "source": [
    "# To see whether this was a good prediction, \n",
    "# lets graph the line against that data. First,\n",
    "# the data for that line:\n",
    "\n",
    "linfit = list(map(lambda x: y(x), years2))"
   ]
  },
  {
   "cell_type": "code",
   "execution_count": null,
   "metadata": {},
   "outputs": [],
   "source": [
    "# We can draw a data with a line\n",
    "\n",
    "plt.plot( years2, anomalies1, color='red', linestyle='solid')\n",
    "# plt.plot( years2, anomalies2, color='blue', linestyle='solid')\n",
    "plt.plot( years2, linfit, color='green', linestyle='solid')\n",
    "plt.title(\"Temperature anomaly\")\n",
    "plt.ylabel(\"Degrees C\")\n",
    "\n",
    "plt.show()\n"
   ]
  },
  {
   "cell_type": "code",
   "execution_count": null,
   "metadata": {},
   "outputs": [],
   "source": [
    "# (1) Why is our line of best fit misleading?\n",
    "# (2) Why is our predicted temperature anomaly clearly flawed?\n",
    "# (3) How might we make a better prediction?"
   ]
  },
  {
   "cell_type": "code",
   "execution_count": null,
   "metadata": {},
   "outputs": [],
   "source": [
    "a = [2,3, -9, 0, 55, -17]\n",
    "list(filter(lambda x: x > 0, a))"
   ]
  },
  {
   "cell_type": "code",
   "execution_count": null,
   "metadata": {},
   "outputs": [],
   "source": []
  }
 ],
 "metadata": {
  "kernelspec": {
   "display_name": "Python 3",
   "language": "python",
   "name": "python3"
  },
  "language_info": {
   "codemirror_mode": {
    "name": "ipython",
    "version": 3
   },
   "file_extension": ".py",
   "mimetype": "text/x-python",
   "name": "python",
   "nbconvert_exporter": "python",
   "pygments_lexer": "ipython3",
   "version": "3.7.1"
  }
 },
 "nbformat": 4,
 "nbformat_minor": 2
}
