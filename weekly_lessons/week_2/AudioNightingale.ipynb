{
 "cells": [
  {
   "cell_type": "code",
   "execution_count": null,
   "metadata": {},
   "outputs": [],
   "source": [
    "# We are going to analyze the song of the nightingale\n",
    "# Source: http://www.orangefreesounds.com/bird-song/\n",
    "# Sources: https://www.allaboutbirds.org/guide/Song_Sparrow/sounds\n",
    "# Sources: https://www.audubon.org/field-guide/bird/song-sparrow\n",
    "# Sources: https://www.xeno-canto.org/species/Melospiza-melodia\n",
    "# Sources: https://www.bird-sounds.net/song-sparrow/\n",
    "# Youtube: https://www.youtube.com/watch?v=HVZVm_ReDe0\n",
    "\n",
    "from scipy.io import wavfile\n",
    "import numpy as np\n",
    "import matplotlib.pyplot as plt\n",
    "\n",
    "rate, audio = wavfile.read('birdsong/nightingale2.wav')\n",
    "rate\n",
    "audio"
   ]
  },
  {
   "cell_type": "code",
   "execution_count": null,
   "metadata": {},
   "outputs": [],
   "source": [
    "# Convert to mono:\n",
    "mono = np.mean(audio, axis=1)\n",
    "mono[:10]"
   ]
  },
  {
   "cell_type": "code",
   "execution_count": null,
   "metadata": {},
   "outputs": [],
   "source": [
    "# Number of samples: \n",
    "N = mono.shape[0]\n",
    "N"
   ]
  },
  {
   "cell_type": "code",
   "execution_count": null,
   "metadata": {},
   "outputs": [],
   "source": [
    "# Length of recording:\n",
    "L = N/rate\n",
    "L"
   ]
  },
  {
   "cell_type": "code",
   "execution_count": null,
   "metadata": {},
   "outputs": [],
   "source": [
    "# f, ax = plt.subplots()\n",
    "plt.figure(figsize=(20,7)) \n",
    "plt.plot(np.arange(N)/rate, mono)\n",
    "\n"
   ]
  },
  {
   "cell_type": "code",
   "execution_count": null,
   "metadata": {},
   "outputs": [],
   "source": [
    "# Compute and plot the fourier transform\n",
    "ft = np.abs(np.fft.fft(mono))\n",
    "plt.plot(ft)\n",
    "np.fft.fft(mono)"
   ]
  },
  {
   "cell_type": "code",
   "execution_count": null,
   "metadata": {},
   "outputs": [],
   "source": [
    "# Oops! what's the deal with this symmetry?\n",
    "\n",
    "len(ft)"
   ]
  },
  {
   "cell_type": "code",
   "execution_count": null,
   "metadata": {},
   "outputs": [],
   "source": [
    "# We'll plot the left have of the spectrum\n",
    "\n",
    "plt.figure(figsize=(20,10))\n",
    "plt.plot(ft[:(len(ft)//2)])"
   ]
  },
  {
   "cell_type": "code",
   "execution_count": null,
   "metadata": {},
   "outputs": [],
   "source": [
    "# What is the peak value?\n",
    "\n",
    "max(ft)"
   ]
  },
  {
   "cell_type": "code",
   "execution_count": null,
   "metadata": {},
   "outputs": [],
   "source": [
    "# WHERE is the peak?\n",
    "\n",
    "index = (list(ft)).index(max(ft))\n",
    "index, ft[index]"
   ]
  },
  {
   "cell_type": "code",
   "execution_count": null,
   "metadata": {},
   "outputs": [],
   "source": [
    "# The peak (power) occurs at a specific \n",
    "# frequency. What is it?\n",
    "\n",
    "N, len(ft), index/N, rate*index/N"
   ]
  },
  {
   "cell_type": "code",
   "execution_count": null,
   "metadata": {},
   "outputs": [],
   "source": [
    "# CONCLUSION: the dominant sound in the nightingale's song\n",
    "# is at 2867 Hertz (F# 8)"
   ]
  },
  {
   "cell_type": "markdown",
   "metadata": {},
   "source": [
    "![Image](https://upload.wikimedia.org/wikipedia/commons/thumb/2/2e/Piano_Frequencies.svg/2880px-Piano_Frequencies.svg.png)"
   ]
  },
  {
   "cell_type": "code",
   "execution_count": null,
   "metadata": {},
   "outputs": [],
   "source": []
  }
 ],
 "metadata": {
  "kernelspec": {
   "display_name": "Python 3",
   "language": "python",
   "name": "python3"
  },
  "language_info": {
   "codemirror_mode": {
    "name": "ipython",
    "version": 3
   },
   "file_extension": ".py",
   "mimetype": "text/x-python",
   "name": "python",
   "nbconvert_exporter": "python",
   "pygments_lexer": "ipython3",
   "version": "3.7.1"
  }
 },
 "nbformat": 4,
 "nbformat_minor": 2
}
