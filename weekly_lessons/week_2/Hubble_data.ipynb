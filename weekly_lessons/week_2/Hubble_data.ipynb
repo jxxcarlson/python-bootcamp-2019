{
 "cells": [
  {
   "cell_type": "code",
   "execution_count": null,
   "metadata": {},
   "outputs": [],
   "source": [
    "# References: https://starchild.gsfc.nasa.gov/docs/StarChild/questions/redshift.html\n",
    "# https://www.atnf.csiro.au/outreach/education/senior/cosmicengine/hubble.html\n",
    "# https://www.pnas.org/content/112/11/3173\n",
    "# https://www.pnas.org/content/101/1/8\n",
    "\n",
    "\n",
    "import pandas as pd\n",
    "import seaborn as sns\n",
    "import matplotlib.pyplot as plt\n",
    "%pylab inline"
   ]
  },
  {
   "cell_type": "code",
   "execution_count": null,
   "metadata": {},
   "outputs": [],
   "source": [
    "df = pd.read_csv(\"hubble_data.csv\")\n",
    "df.head()"
   ]
  },
  {
   "cell_type": "code",
   "execution_count": null,
   "metadata": {},
   "outputs": [],
   "source": [
    "df[\"distance\"]"
   ]
  },
  {
   "cell_type": "code",
   "execution_count": null,
   "metadata": {},
   "outputs": [],
   "source": [
    "df.plot.scatter(x = 'distance', y = 'recession_velocity', title = 'Hubble recession data')\n",
    "plt.show()"
   ]
  },
  {
   "cell_type": "code",
   "execution_count": null,
   "metadata": {},
   "outputs": [],
   "source": [
    "sns.regplot('distance', 'recession_velocity', data=df)"
   ]
  },
  {
   "cell_type": "code",
   "execution_count": null,
   "metadata": {},
   "outputs": [],
   "source": [
    "import statsmodels.formula.api as sm\n",
    "result = sm.ols(formula=\"recession_velocity ~ distance\", data=df).fit()\n",
    "print(result.params)\n"
   ]
  },
  {
   "cell_type": "code",
   "execution_count": null,
   "metadata": {},
   "outputs": [],
   "source": [
    "# H = 454 is the Hubble constant, measured in km/sec/megaparsec \n",
    "#\n",
    "# Thus \n",
    "#\n",
    "#.     v = H x d ... possibly + constant\n",
    "#\n",
    "# Current value of H: about 65 km/sec/mp\n",
    "# 1 mpc = 3x10^19 km, so H has units of 1/sec\n",
    "# Therefore 1/H has the units of time, in seconds, and we\n",
    "# find that 1/H ~ 6.6x10^16 sec - 2 billion years.\n",
    "# This is an extimate of the age of universe (!!)\n",
    "\n",
    "# Adjusting for the 7-fold reduction in the value of H, we find that\n",
    "# age of universe is about 7 times greater, i.e., 14 billion years.\n",
    "\n",
    "\n",
    "def v(d):\n",
    "    return 454.16*d - 40.78\n",
    "v(0.5), v(1.4)"
   ]
  },
  {
   "cell_type": "code",
   "execution_count": null,
   "metadata": {},
   "outputs": [],
   "source": [
    "df"
   ]
  },
  {
   "cell_type": "code",
   "execution_count": null,
   "metadata": {},
   "outputs": [],
   "source": [
    "print(result.summary())"
   ]
  },
  {
   "cell_type": "code",
   "execution_count": null,
   "metadata": {},
   "outputs": [],
   "source": []
  }
 ],
 "metadata": {
  "kernelspec": {
   "display_name": "Python 3",
   "language": "python",
   "name": "python3"
  },
  "language_info": {
   "codemirror_mode": {
    "name": "ipython",
    "version": 3
   },
   "file_extension": ".py",
   "mimetype": "text/x-python",
   "name": "python",
   "nbconvert_exporter": "python",
   "pygments_lexer": "ipython3",
   "version": "3.7.1"
  }
 },
 "nbformat": 4,
 "nbformat_minor": 1
}
