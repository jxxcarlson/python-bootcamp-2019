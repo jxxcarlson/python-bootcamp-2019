{
 "cells": [
  {
   "cell_type": "code",
   "execution_count": null,
   "metadata": {},
   "outputs": [],
   "source": [
    "# Video (Fourier transform): https://www.youtube.com/watch?v=rzCO5fQysw0 -- AWESOME APPLICATIONS\n",
    "\n",
    "def read_file(file_name):\n",
    "    file = open(file_name)\n",
    "    data = file.read()\n",
    "    file.close()\n",
    "    return data\n",
    "\n",
    "data_as_string = read_file('data/sea_level.txt')\n",
    "len(data_as_string)"
   ]
  },
  {
   "cell_type": "code",
   "execution_count": null,
   "metadata": {},
   "outputs": [],
   "source": [
    "data_as_list = data_as_string.split(\"\\n\")"
   ]
  },
  {
   "cell_type": "code",
   "execution_count": null,
   "metadata": {},
   "outputs": [],
   "source": [
    "good_lines = data_as_list[52:-1]"
   ]
  },
  {
   "cell_type": "code",
   "execution_count": null,
   "metadata": {},
   "outputs": [],
   "source": [
    "good_lines[0]"
   ]
  },
  {
   "cell_type": "code",
   "execution_count": null,
   "metadata": {},
   "outputs": [],
   "source": [
    "# python's str.split() works for most whitespaces including tabs newlines and spaces\n",
    "\n",
    "good_lines[0].split()"
   ]
  },
  {
   "cell_type": "code",
   "execution_count": null,
   "metadata": {},
   "outputs": [],
   "source": [
    "split_data = [line.split() for line in good_lines]\n",
    "\n",
    "# I used a 'list comprehension' [f(x) for x in list]\n",
    "# e.g: [x**2 for x in range(5)] evaluates to [0, 1, 4, 9, 16]\n",
    "# similar to list(map(lambda x: x**2, range(5)))"
   ]
  },
  {
   "cell_type": "code",
   "execution_count": null,
   "metadata": {},
   "outputs": [],
   "source": [
    "split_data[-2:]"
   ]
  },
  {
   "cell_type": "code",
   "execution_count": null,
   "metadata": {},
   "outputs": [],
   "source": [
    "# converting all data to float\n",
    "\n",
    "split_data_float = [[float(item) for item in row] for row in split_data]"
   ]
  },
  {
   "cell_type": "code",
   "execution_count": null,
   "metadata": {},
   "outputs": [],
   "source": [
    "split_data_float[-2:]"
   ]
  },
  {
   "cell_type": "code",
   "execution_count": null,
   "metadata": {},
   "outputs": [],
   "source": [
    "data_as_list[31:46]"
   ]
  },
  {
   "cell_type": "code",
   "execution_count": null,
   "metadata": {},
   "outputs": [],
   "source": [
    "#   [[row1],[row2],[row3],..]\n",
    "\n",
    "# Currently, each row is a single list. But we want each column as a single list.\n",
    "\n",
    "#   [[col1],[col2],[col3],..]\n",
    "\n",
    "# row1,           c c c\n",
    "# row2,    zip    o o o\n",
    "# row3,  <----->  l l l \n",
    "# row4            1,2,3\n",
    "\n",
    "_, _, year, _, _, GMSL_1, _, _, _, _, _, _ = zip(*split_data_float)\n",
    "# & is the \"splat operator\"\n",
    "\n",
    "# another way:\n",
    "# from operator import itemgetter as item\n",
    "# year, GMSL_1 = item(2,5)(list(zip(*split_data_float)))"
   ]
  },
  {
   "cell_type": "code",
   "execution_count": null,
   "metadata": {},
   "outputs": [],
   "source": [
    "year[-10:]"
   ]
  },
  {
   "cell_type": "code",
   "execution_count": null,
   "metadata": {},
   "outputs": [],
   "source": [
    "from matplotlib import pyplot as plt\n",
    "%matplotlib inline\n",
    "\n",
    "# Uncomment following line to get sharper figures on mac (might work on windows as well)\n",
    "#%config InlineBackend.figure_formats = [\"retina\"]"
   ]
  },
  {
   "cell_type": "code",
   "execution_count": null,
   "metadata": {},
   "outputs": [],
   "source": [
    "plt.plot(year,GMSL_1)\n",
    "plt.title(\"GMSL vs time\")\n",
    "plt.xlabel(\"Year\")\n",
    "plt.xlabel(\"GMSL\")"
   ]
  },
  {
   "cell_type": "code",
   "execution_count": null,
   "metadata": {
    "scrolled": true
   },
   "outputs": [],
   "source": [
    "import numpy as np\n",
    "\n",
    "# quick linear regression\n",
    "a, b = np.polyfit(year, GMSL_1, 1)\n",
    "GMSL_1_trend = [a*x+b for x in year]\n",
    "############    ^^^ Use list comprehension\n",
    "\n",
    "plt.plot(year,GMSL_1)\n",
    "plt.plot(year,GMSL_1_trend)\n",
    "plt.title(\"GMSL and linear fit\")\n",
    "plt.xlabel(\"Year\")\n",
    "plt.ylabel(\"GMSL\")"
   ]
  },
  {
   "cell_type": "code",
   "execution_count": null,
   "metadata": {
    "scrolled": true
   },
   "outputs": [],
   "source": [
    "# subtracting the trend using a list comprehension\n",
    "\n",
    "GMSL_1_sub_trend = [G-T for G,T in zip(GMSL_1,GMSL_1_trend)]\n",
    "plt.plot(year,GMSL_1_sub_trend)\n",
    "plt.title(\"GMSL - trend\")\n",
    "plt.xlabel(\"Year\")\n",
    "plt.ylabel(\"GMSL\")"
   ]
  },
  {
   "cell_type": "code",
   "execution_count": null,
   "metadata": {},
   "outputs": [],
   "source": [
    "# checking if data points are uniformly distributed in time\n",
    "# If the standard deviation was too high compared to mean, \n",
    "# I would interpolate data on a uniform time axis first\n",
    "#  e.g. on np.linspace(1993.5,2019.1,900)\n",
    "\n",
    "diff_years = np.diff(year)\n",
    "# ^^^ The first difference is given by out[n] = a[n+1] - a[n] along the given axis, \n",
    "# higher differences are calculated by using diff recursively.\n",
    "avg_diff_years = np.mean(diff_years)\n",
    "std_diff_years = np.std(diff_years)\n",
    "avg_diff_years, std_diff_years"
   ]
  },
  {
   "cell_type": "code",
   "execution_count": null,
   "metadata": {},
   "outputs": [],
   "source": [
    "fft_GMSL_1 = np.absolute(np.fft.fft(GMSL_1_sub_trend))[:-850]\n",
    "\n",
    "## fft_GMSL_1 = np.absolute(np.fft.fft(GMSL_1_sub_trend))[:450]\n",
    "\n",
    "dt_mean = avg_diff_years\n",
    "sampling_freq = 1/dt_mean # this has units 1/year (per year)\n",
    "########################### ^^^ Always good to think about units\n",
    "signal_len = len(GMSL_1_sub_trend)\n",
    "\n",
    "freq = [sampling_freq*partial_len/signal_len for partial_len in range(len(fft_GMSL_1))]\n",
    "plt.plot(freq,fft_GMSL_1)\n",
    "plt.plot([1/3]*2,[0,2200],'r--')\n",
    "plt.title(\"Spectrum of GMSL data\")\n",
    "plt.xlabel(\"Cycles per year\")\n",
    "plt.ylabel(\"Power\")\n",
    "print(\"len(fft_data =\", len(fft_GMSL_1))"
   ]
  },
  {
   "cell_type": "code",
   "execution_count": null,
   "metadata": {},
   "outputs": [],
   "source": [
    "# Smoothing data: https://stackoverflow.com/questions/20618804/how-to-smooth-a-curve-in-the-right-way\n",
    "x = np.linspace(0,2*np.pi,100)\n",
    "y = np.sin(x) + np.random.random(100) * 0.8\n",
    "\n",
    "def smooth(y, box_pts):\n",
    "    box = np.ones(box_pts)/box_pts\n",
    "    y_smooth = np.convolve(y, box, mode='same')\n",
    "    return y_smooth\n",
    "\n",
    "# Reference: https://docs.scipy.org/doc/numpy/reference/generated/numpy.convolve.html\n",
    "#            http://docs.astropy.org/en/stable/convolution/using.html\n",
    "#            https://www.youtube.com/watch?v=zZS6DYkyZIY (VIDEO)\n",
    "#            https://www.youtube.com/watch?v=rzCO5fQysw0 (EXTREMELY COOL VIDEO!)\n",
    "#            https://www.youtube.com/watch?v=FjmwwDHT98c (VIDEO)\n",
    "\n",
    "plt.plot(x, y,'o')\n",
    "plt.plot(x, smooth(y,3), 'r-', lw=2)\n",
    "plt.plot(x, smooth(y,19), 'g-', lw=2)"
   ]
  },
  {
   "cell_type": "code",
   "execution_count": null,
   "metadata": {},
   "outputs": [],
   "source": [
    "box_pts = 5\n",
    "box = np.ones(box_pts)/box_pts\n",
    "box"
   ]
  },
  {
   "cell_type": "code",
   "execution_count": null,
   "metadata": {},
   "outputs": [],
   "source": [
    "smoothing_window = 10\n",
    "fft_GMSL_1_smooth = np.absolute(np.fft.fft(smooth(GMSL_1_sub_trend,smoothing_window)))[:-850]"
   ]
  },
  {
   "cell_type": "code",
   "execution_count": null,
   "metadata": {},
   "outputs": [],
   "source": [
    "len(fft_GMSL_1), len(fft_GMSL_1_smooth)"
   ]
  },
  {
   "cell_type": "code",
   "execution_count": null,
   "metadata": {},
   "outputs": [],
   "source": [
    "plt.plot(freq,fft_GMSL_1_smooth)\n",
    "# plt.plot(freq,fft_GMSL_1)\n",
    "plt.title(\"Spectrum of smoothed GMSL data\")\n",
    "plt.xlabel(\"Cycles per year\")\n",
    "plt.ylabel(\"Power\")"
   ]
  },
  {
   "cell_type": "code",
   "execution_count": null,
   "metadata": {},
   "outputs": [],
   "source": [
    "fft_GMSL_1_smooth"
   ]
  },
  {
   "cell_type": "code",
   "execution_count": null,
   "metadata": {},
   "outputs": [],
   "source": [
    "fft_GMSL_1_smooth[1], fft_GMSL_1_smooth[9], fft_GMSL_1_smooth[26], fft_GMSL_1_smooth[52],"
   ]
  }
 ],
 "metadata": {
  "kernelspec": {
   "display_name": "Python 3",
   "language": "python",
   "name": "python3"
  },
  "language_info": {
   "codemirror_mode": {
    "name": "ipython",
    "version": 3
   },
   "file_extension": ".py",
   "mimetype": "text/x-python",
   "name": "python",
   "nbconvert_exporter": "python",
   "pygments_lexer": "ipython3",
   "version": "3.7.1"
  }
 },
 "nbformat": 4,
 "nbformat_minor": 2
}
