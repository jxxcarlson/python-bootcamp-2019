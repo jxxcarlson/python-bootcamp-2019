{
 "cells": [
  {
   "cell_type": "code",
   "execution_count": 1,
   "metadata": {},
   "outputs": [],
   "source": [
    "import matplotlib.pyplot as plt\n",
    "%matplotlib inline\n",
    "import numpy as np\n",
    "import seaborn as sb\n",
    "import pandas as pd\n",
    "\n",
    "# REFERENCES\n",
    "# Plotting with Pandas: http://jonathansoma.com/lede/algorithms-2017/classes/fuzziness-matplotlib/understand-df-plot-in-pandas/\n",
    "# Regression, etc.: https://becominghuman.ai/linear-regression-in-python-with-pandas-scikit-learn-72574a2ec1a5"
   ]
  },
  {
   "cell_type": "code",
   "execution_count": 2,
   "metadata": {},
   "outputs": [
    {
     "data": {
      "text/html": [
       "<div>\n",
       "<style scoped>\n",
       "    .dataframe tbody tr th:only-of-type {\n",
       "        vertical-align: middle;\n",
       "    }\n",
       "\n",
       "    .dataframe tbody tr th {\n",
       "        vertical-align: top;\n",
       "    }\n",
       "\n",
       "    .dataframe thead th {\n",
       "        text-align: right;\n",
       "    }\n",
       "</style>\n",
       "<table border=\"1\" class=\"dataframe\">\n",
       "  <thead>\n",
       "    <tr style=\"text-align: right;\">\n",
       "      <th></th>\n",
       "      <th>year</th>\n",
       "      <th>anomaly</th>\n",
       "    </tr>\n",
       "  </thead>\n",
       "  <tbody>\n",
       "    <tr>\n",
       "      <th>135</th>\n",
       "      <td>2015</td>\n",
       "      <td>0.91</td>\n",
       "    </tr>\n",
       "    <tr>\n",
       "      <th>99</th>\n",
       "      <td>1979</td>\n",
       "      <td>0.22</td>\n",
       "    </tr>\n",
       "    <tr>\n",
       "      <th>58</th>\n",
       "      <td>1938</td>\n",
       "      <td>-0.02</td>\n",
       "    </tr>\n",
       "    <tr>\n",
       "      <th>8</th>\n",
       "      <td>1888</td>\n",
       "      <td>-0.15</td>\n",
       "    </tr>\n",
       "    <tr>\n",
       "      <th>86</th>\n",
       "      <td>1966</td>\n",
       "      <td>-0.02</td>\n",
       "    </tr>\n",
       "  </tbody>\n",
       "</table>\n",
       "</div>"
      ],
      "text/plain": [
       "     year  anomaly\n",
       "135  2015     0.91\n",
       "99   1979     0.22\n",
       "58   1938    -0.02\n",
       "8    1888    -0.15\n",
       "86   1966    -0.02"
      ]
     },
     "execution_count": 2,
     "metadata": {},
     "output_type": "execute_result"
    }
   ],
   "source": [
    "# What will happen?\n",
    "\n",
    "# Data=pd.read_csv('data/global_temperature_anomaly.csv')\n",
    "\n",
    "# Oops! You have to look at the data\n",
    "# OK boss, I'm going to the command line\n",
    "\n",
    "# Your friends:\n",
    "\n",
    "# cd              -- change directory\n",
    "# cd ..           -- go up one level\n",
    "# cd -            -- go back to where you were\n",
    "# head FILE       -- look at the first few lines of FILE\n",
    "# head -12 FILE   -- look at the first 12 lines of FILE\n",
    "# tail FILE       -- look at last few lines of FILE\n",
    "# tail -8 FILE    -- what does this do?\n",
    "# grep 1929 FILE  -- display lines containing 1929\n",
    "# grep -v '#'     -- display all line not containing '#'\n",
    "# more FILE       -- look at a file\n",
    "# cat FILE        -- copy FILE to terminal (stdout)\n",
    "# cat FILE > FF   -- copy FILE to FF\n",
    "\n",
    "# Combining things\n",
    "\n",
    "# grep -v '#' > anomalies-good.csv.  -- We just cleaned our data in one line!!\n",
    "#  -- How would we do this with the sealevel data?\n",
    "\n",
    "\n",
    "df=pd.read_csv('data/anomalies-good.csv', header=None, names=[\"year\", \"anomaly\"])\n",
    "df.head(10)\n",
    "df.sample(5)\n",
    "\n",
    "# df=pd.read_csv('data/anomalies-good.csv', names=[\"year\", \"anomaly\"])\n",
    "# df.head(10)\n",
    "# Alternatives: omit names..., use header=None, ..."
   ]
  },
  {
   "cell_type": "code",
   "execution_count": null,
   "metadata": {},
   "outputs": [],
   "source": [
    "# Another way to get out\n",
    "df2=pd.read_csv('data/global_temperature_anomaly.csv',skiprows=7, header=None)\n",
    "df2.head(10)"
   ]
  },
  {
   "cell_type": "code",
   "execution_count": null,
   "metadata": {},
   "outputs": [],
   "source": [
    "# df.plot()\n",
    "# Oops! that didn't work!\n",
    "df.plot(x='year')"
   ]
  },
  {
   "cell_type": "code",
   "execution_count": 11,
   "metadata": {},
   "outputs": [],
   "source": [
    "# The below won't work:\n",
    "df3 = pd.read_csv('data/sea_level3.txt', sep=r\"\\s+\", header=None)\n",
    "\n",
    "# Let's try this:\n",
    "# df3 = pd.read_csv('data/sea_level3.txt', sep=r\"\\s+\",header=None)\n"
   ]
  },
  {
   "cell_type": "code",
   "execution_count": 12,
   "metadata": {},
   "outputs": [
    {
     "data": {
      "text/html": [
       "<div>\n",
       "<style scoped>\n",
       "    .dataframe tbody tr th:only-of-type {\n",
       "        vertical-align: middle;\n",
       "    }\n",
       "\n",
       "    .dataframe tbody tr th {\n",
       "        vertical-align: top;\n",
       "    }\n",
       "\n",
       "    .dataframe thead th {\n",
       "        text-align: right;\n",
       "    }\n",
       "</style>\n",
       "<table border=\"1\" class=\"dataframe\">\n",
       "  <thead>\n",
       "    <tr style=\"text-align: right;\">\n",
       "      <th></th>\n",
       "      <th>0</th>\n",
       "      <th>1</th>\n",
       "      <th>2</th>\n",
       "      <th>3</th>\n",
       "      <th>4</th>\n",
       "      <th>5</th>\n",
       "      <th>6</th>\n",
       "      <th>7</th>\n",
       "      <th>8</th>\n",
       "      <th>9</th>\n",
       "      <th>10</th>\n",
       "      <th>11</th>\n",
       "    </tr>\n",
       "  </thead>\n",
       "  <tbody>\n",
       "    <tr>\n",
       "      <th>0</th>\n",
       "      <td>0</td>\n",
       "      <td>11</td>\n",
       "      <td>1993.011526</td>\n",
       "      <td>466462</td>\n",
       "      <td>337277.00</td>\n",
       "      <td>-37.24</td>\n",
       "      <td>92.66</td>\n",
       "      <td>-37.02</td>\n",
       "      <td>-37.24</td>\n",
       "      <td>92.66</td>\n",
       "      <td>-37.02</td>\n",
       "      <td>-37.55</td>\n",
       "    </tr>\n",
       "    <tr>\n",
       "      <th>1</th>\n",
       "      <td>0</td>\n",
       "      <td>12</td>\n",
       "      <td>1993.038692</td>\n",
       "      <td>460889</td>\n",
       "      <td>334037.31</td>\n",
       "      <td>-40.35</td>\n",
       "      <td>95.39</td>\n",
       "      <td>-38.20</td>\n",
       "      <td>-40.34</td>\n",
       "      <td>95.39</td>\n",
       "      <td>-38.19</td>\n",
       "      <td>-38.06</td>\n",
       "    </tr>\n",
       "    <tr>\n",
       "      <th>2</th>\n",
       "      <td>0</td>\n",
       "      <td>13</td>\n",
       "      <td>1993.065858</td>\n",
       "      <td>472123</td>\n",
       "      <td>342416.09</td>\n",
       "      <td>-40.17</td>\n",
       "      <td>92.29</td>\n",
       "      <td>-38.28</td>\n",
       "      <td>-40.16</td>\n",
       "      <td>92.29</td>\n",
       "      <td>-38.27</td>\n",
       "      <td>-37.60</td>\n",
       "    </tr>\n",
       "  </tbody>\n",
       "</table>\n",
       "</div>"
      ],
      "text/plain": [
       "   0   1            2       3          4      5      6      7      8      9   \\\n",
       "0   0  11  1993.011526  466462  337277.00 -37.24  92.66 -37.02 -37.24  92.66   \n",
       "1   0  12  1993.038692  460889  334037.31 -40.35  95.39 -38.20 -40.34  95.39   \n",
       "2   0  13  1993.065858  472123  342416.09 -40.17  92.29 -38.28 -40.16  92.29   \n",
       "\n",
       "      10     11  \n",
       "0 -37.02 -37.55  \n",
       "1 -38.19 -38.06  \n",
       "2 -38.27 -37.60  "
      ]
     },
     "execution_count": 12,
     "metadata": {},
     "output_type": "execute_result"
    }
   ],
   "source": [
    "df3.head(3)"
   ]
  },
  {
   "cell_type": "code",
   "execution_count": 13,
   "metadata": {},
   "outputs": [
    {
     "name": "stdout",
     "output_type": "stream",
     "text": [
      "len(meta) = 12\n"
     ]
    },
    {
     "data": {
      "text/html": [
       "<div>\n",
       "<style scoped>\n",
       "    .dataframe tbody tr th:only-of-type {\n",
       "        vertical-align: middle;\n",
       "    }\n",
       "\n",
       "    .dataframe tbody tr th {\n",
       "        vertical-align: top;\n",
       "    }\n",
       "\n",
       "    .dataframe thead th {\n",
       "        text-align: right;\n",
       "    }\n",
       "</style>\n",
       "<table border=\"1\" class=\"dataframe\">\n",
       "  <thead>\n",
       "    <tr style=\"text-align: right;\">\n",
       "      <th></th>\n",
       "      <th>alt</th>\n",
       "      <th>cycle</th>\n",
       "      <th>year</th>\n",
       "      <th>obs</th>\n",
       "      <th>wobs</th>\n",
       "      <th>GMSL</th>\n",
       "      <th>devGMSL</th>\n",
       "      <th>smGMSL</th>\n",
       "      <th>GMSL2</th>\n",
       "      <th>devGMSL2</th>\n",
       "      <th>smGMSL2</th>\n",
       "      <th>sm2GMSL2</th>\n",
       "    </tr>\n",
       "  </thead>\n",
       "  <tbody>\n",
       "    <tr>\n",
       "      <th>0</th>\n",
       "      <td>0</td>\n",
       "      <td>11</td>\n",
       "      <td>1993.011526</td>\n",
       "      <td>466462</td>\n",
       "      <td>337277.00</td>\n",
       "      <td>-37.24</td>\n",
       "      <td>92.66</td>\n",
       "      <td>-37.02</td>\n",
       "      <td>-37.24</td>\n",
       "      <td>92.66</td>\n",
       "      <td>-37.02</td>\n",
       "      <td>-37.55</td>\n",
       "    </tr>\n",
       "    <tr>\n",
       "      <th>1</th>\n",
       "      <td>0</td>\n",
       "      <td>12</td>\n",
       "      <td>1993.038692</td>\n",
       "      <td>460889</td>\n",
       "      <td>334037.31</td>\n",
       "      <td>-40.35</td>\n",
       "      <td>95.39</td>\n",
       "      <td>-38.20</td>\n",
       "      <td>-40.34</td>\n",
       "      <td>95.39</td>\n",
       "      <td>-38.19</td>\n",
       "      <td>-38.06</td>\n",
       "    </tr>\n",
       "    <tr>\n",
       "      <th>2</th>\n",
       "      <td>0</td>\n",
       "      <td>13</td>\n",
       "      <td>1993.065858</td>\n",
       "      <td>472123</td>\n",
       "      <td>342416.09</td>\n",
       "      <td>-40.17</td>\n",
       "      <td>92.29</td>\n",
       "      <td>-38.28</td>\n",
       "      <td>-40.16</td>\n",
       "      <td>92.29</td>\n",
       "      <td>-38.27</td>\n",
       "      <td>-37.60</td>\n",
       "    </tr>\n",
       "    <tr>\n",
       "      <th>3</th>\n",
       "      <td>0</td>\n",
       "      <td>14</td>\n",
       "      <td>1993.093025</td>\n",
       "      <td>421377</td>\n",
       "      <td>306050.59</td>\n",
       "      <td>-41.92</td>\n",
       "      <td>96.20</td>\n",
       "      <td>-38.56</td>\n",
       "      <td>-41.89</td>\n",
       "      <td>96.19</td>\n",
       "      <td>-38.54</td>\n",
       "      <td>-37.45</td>\n",
       "    </tr>\n",
       "    <tr>\n",
       "      <th>4</th>\n",
       "      <td>0</td>\n",
       "      <td>15</td>\n",
       "      <td>1993.120191</td>\n",
       "      <td>459548</td>\n",
       "      <td>331094.09</td>\n",
       "      <td>-36.89</td>\n",
       "      <td>94.64</td>\n",
       "      <td>-37.87</td>\n",
       "      <td>-36.85</td>\n",
       "      <td>94.63</td>\n",
       "      <td>-37.83</td>\n",
       "      <td>-36.44</td>\n",
       "    </tr>\n",
       "  </tbody>\n",
       "</table>\n",
       "</div>"
      ],
      "text/plain": [
       "   alt  cycle         year     obs       wobs   GMSL  devGMSL  smGMSL  GMSL2  \\\n",
       "0    0     11  1993.011526  466462  337277.00 -37.24    92.66  -37.02 -37.24   \n",
       "1    0     12  1993.038692  460889  334037.31 -40.35    95.39  -38.20 -40.34   \n",
       "2    0     13  1993.065858  472123  342416.09 -40.17    92.29  -38.28 -40.16   \n",
       "3    0     14  1993.093025  421377  306050.59 -41.92    96.20  -38.56 -41.89   \n",
       "4    0     15  1993.120191  459548  331094.09 -36.89    94.64  -37.87 -36.85   \n",
       "\n",
       "   devGMSL2  smGMSL2  sm2GMSL2  \n",
       "0     92.66   -37.02    -37.55  \n",
       "1     95.39   -38.19    -38.06  \n",
       "2     92.29   -38.27    -37.60  \n",
       "3     96.19   -38.54    -37.45  \n",
       "4     94.63   -37.83    -36.44  "
      ]
     },
     "execution_count": 13,
     "metadata": {},
     "output_type": "execute_result"
    }
   ],
   "source": [
    "\"\"\"\n",
    "HDR 1 altimeter type 0=dual-frequency  999=single frequency (ie Poseidon-1)\n",
    "HDR 2 merged file cycle #\n",
    "HDR 3 year+fraction of year (mid-cycle)\n",
    "HDR 4 number of observations\n",
    "HDR 5 number of weighted observations\n",
    "HDR 6 GMSL (Global Isostatic Adjustment (GIA) not applied) variation (mm) with respect to 20-year TOPEX/Jason collinear mean reference\n",
    "HDR 7 standard deviation of GMSL (GIA not applied) variation estimate (mm)\n",
    "HDR* 8 smoothed (60-day Gaussian type filter) GMSL (GIA not applied) variation (mm)  with respect to 20-year mean\n",
    "HDR* 9 GMSL (Global Isostatic Adjustment (GIA) applied) variation (mm) )  with respect to 20-year mean\n",
    "HDR 10 standard deviation of GMSL (GIA applied) variation estimate (mm)\n",
    "HDR* 11 smoothed (60-day Gaussian type filter) GMSL (GIA applied) variation (mm) )  with respect to 20-year mean\n",
    "HDR* 12 moothed (60-day Gaussian type filter) GMSL (GIA applied) variation (mm); annual and semi-annual signal removed )  with respect to 20-year mean\n",
    "\"\"\"\n",
    "meta = ['alt', 'cycle', 'year', 'obs', 'wobs', 'GMSL', 'devGMSL', 'smGMSL', 'GMSL2', 'devGMSL2', 'smGMSL2', 'sm2GMSL2']\n",
    "print(\"len(meta) =\", len(meta))\n",
    "df3 = pd.read_csv('data/sea_level3.txt', sep=r\"\\s+\", names=meta)\n",
    "df3.head(5)"
   ]
  },
  {
   "cell_type": "code",
   "execution_count": 14,
   "metadata": {},
   "outputs": [
    {
     "data": {
      "text/plain": [
       "<matplotlib.axes._subplots.AxesSubplot at 0x1a1be1d8d0>"
      ]
     },
     "execution_count": 14,
     "metadata": {},
     "output_type": "execute_result"
    },
    {
     "data": {
      "image/png": "[encoded data removed]",
      "text/plain": [
       "<Figure size 432x288 with 1 Axes>"
      ]
     },
     "metadata": {
      "needs_background": "light"
     },
     "output_type": "display_data"
    }
   ],
   "source": [
    "df3.plot(x='year', y='sm2GMSL2')"
   ]
  },
  {
   "cell_type": "code",
   "execution_count": 15,
   "metadata": {},
   "outputs": [
    {
     "data": {
      "text/plain": [
       "<matplotlib.axes._subplots.AxesSubplot at 0x1a1c75bc18>"
      ]
     },
     "execution_count": 15,
     "metadata": {},
     "output_type": "execute_result"
    },
    {
     "data": {
      "image/png": "[encoded data removed]",
      "text/plain": [
       "<Figure size 432x288 with 1 Axes>"
      ]
     },
     "metadata": {
      "needs_background": "light"
     },
     "output_type": "display_data"
    }
   ],
   "source": [
    "df3.plot(x='year', y='GMSL2')"
   ]
  },
  {
   "cell_type": "code",
   "execution_count": 17,
   "metadata": {
    "scrolled": true
   },
   "outputs": [
    {
     "data": {
      "image/png": "[encoded data removed]",
      "text/plain": [
       "<Figure size 720x504 with 1 Axes>"
      ]
     },
     "metadata": {
      "needs_background": "light"
     },
     "output_type": "display_data"
    }
   ],
   "source": [
    "fig = df3.plot(x='year', y=['sm2GMSL2','GMSL2'],figsize=(10,7)).get_figure()\n",
    "fig.savefig('sealevel.png')\n",
    "\n",
    "# seaplot.savefig('test.pdf')\n",
    "# What are the peaks? Seasonal?\n",
    "# Can you write a program to extract the maxima? The minima?"
   ]
  },
  {
   "cell_type": "code",
   "execution_count": 18,
   "metadata": {},
   "outputs": [],
   "source": [
    "years = df3['year']\n",
    "sealevel = df3['sm2GMSL2']"
   ]
  },
  {
   "cell_type": "code",
   "execution_count": 19,
   "metadata": {},
   "outputs": [
    {
     "data": {
      "text/plain": [
       "pandas.core.series.Series"
      ]
     },
     "execution_count": 19,
     "metadata": {},
     "output_type": "execute_result"
    }
   ],
   "source": [
    "type(years)"
   ]
  },
  {
   "cell_type": "code",
   "execution_count": null,
   "metadata": {},
   "outputs": [],
   "source": [
    "plt.plot(years, sealevel)    "
   ]
  },
  {
   "cell_type": "code",
   "execution_count": 20,
   "metadata": {},
   "outputs": [
    {
     "data": {
      "text/plain": [
       "(3.266906352135131, -6548.754331647561)"
      ]
     },
     "execution_count": 20,
     "metadata": {},
     "output_type": "execute_result"
    }
   ],
   "source": [
    "m, b = np.polyfit(years, sealevel, 1)\n",
    "m, b"
   ]
  },
  {
   "cell_type": "code",
   "execution_count": 21,
   "metadata": {},
   "outputs": [
    {
     "data": {
      "text/plain": [
       "(47.12959331326783, 145.13678387732216)"
      ]
     },
     "execution_count": 21,
     "metadata": {},
     "output_type": "execute_result"
    }
   ],
   "source": [
    "def y(x):\n",
    "    return m*x + b\n",
    "y(2019), y(2049)"
   ]
  },
  {
   "cell_type": "code",
   "execution_count": 22,
   "metadata": {},
   "outputs": [
    {
     "data": {
      "image/png": "[encoded data removed]",
      "text/plain": [
       "<Figure size 432x288 with 1 Axes>"
      ]
     },
     "metadata": {
      "needs_background": "light"
     },
     "output_type": "display_data"
    }
   ],
   "source": [
    "linfit = list(map(lambda x: y(x), years))\n",
    "\n",
    "plt.plot( years, sealevel, color='blue', linestyle='solid')\n",
    "plt.plot( years, linfit, color='red', linestyle='solid')\n",
    "plt.title(\"Sea leval\")\n",
    "plt.ylabel(\"Delta level (mm)\")\n",
    "\n",
    "plt.show()"
   ]
  },
  {
   "cell_type": "code",
   "execution_count": null,
   "metadata": {},
   "outputs": [],
   "source": []
  }
 ],
 "metadata": {
  "kernelspec": {
   "display_name": "Python 3",
   "language": "python",
   "name": "python3"
  },
  "language_info": {
   "codemirror_mode": {
    "name": "ipython",
    "version": 3
   },
   "file_extension": ".py",
   "mimetype": "text/x-python",
   "name": "python",
   "nbconvert_exporter": "python",
   "pygments_lexer": "ipython3",
   "version": "3.7.1"
  }
 },
 "nbformat": 4,
 "nbformat_minor": 2
}
