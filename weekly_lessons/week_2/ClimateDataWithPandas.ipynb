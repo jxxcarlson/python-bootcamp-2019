{
 "cells": [
  {
   "cell_type": "code",
   "execution_count": null,
   "metadata": {},
   "outputs": [],
   "source": [
    "import matplotlib.pyplot as plt\n",
    "%matplotlib inline\n",
    "import numpy as np\n",
    "import seaborn as sb\n",
    "import pandas as pd\n",
    "\n",
    "# REFERENCES\n",
    "# Plotting with Pandas: http://jonathansoma.com/lede/algorithms-2017/classes/fuzziness-matplotlib/understand-df-plot-in-pandas/\n",
    "# Regression, etc.: https://becominghuman.ai/linear-regression-in-python-with-pandas-scikit-learn-72574a2ec1a5"
   ]
  },
  {
   "cell_type": "code",
   "execution_count": null,
   "metadata": {},
   "outputs": [],
   "source": [
    "# What will happen?\n",
    "\n",
    "# Data=pd.read_csv('data/global_temperature_anomaly.csv')\n",
    "\n",
    "# Oops! You have to look at the data\n",
    "# OK boss, I'm going to the command line\n",
    "\n",
    "# Your friends:\n",
    "\n",
    "# cd              -- change directory\n",
    "# cd ..           -- go up one level\n",
    "# cd -            -- go back to where you were\n",
    "# head FILE       -- look at the first few lines of FILE\n",
    "# head -12 FILE   -- look at the first 12 lines of FILE\n",
    "# tail FILE       -- look at last few lines of FILE\n",
    "# tail -8 FILE    -- what does this do?\n",
    "# grep 1929 FILE  -- display lines containing 1929\n",
    "# grep -v '#'     -- display all line not containing '#'\n",
    "# more FILE       -- look at a file\n",
    "# cat FILE        -- copy FILE to terminal (stdout)\n",
    "# cat FILE > FF   -- copy FILE to FF\n",
    "\n",
    "# Combining things\n",
    "\n",
    "# grep -v '#' > anomalies-good.csv.  -- We just cleaned our data in one line!!\n",
    "#  -- How would we do this with the sealevel data?\n",
    "\n",
    "\n",
    "df=pd.read_csv('data/anomalies-good.csv', header=None, names=[\"year\", \"anomaly\"])\n",
    "df.head(10)\n",
    "df.sample(5)\n",
    "\n",
    "# df=pd.read_csv('data/anomalies-good.csv', names=[\"year\", \"anomaly\"])\n",
    "# df.head(10)\n",
    "# Alternatives: omit names..., use header=None, ..."
   ]
  },
  {
   "cell_type": "code",
   "execution_count": null,
   "metadata": {},
   "outputs": [],
   "source": [
    "# Another way to get out\n",
    "df2=pd.read_csv('data/global_temperature_anomaly.csv',skiprows=7, header=None)\n",
    "df2.head(10)"
   ]
  },
  {
   "cell_type": "code",
   "execution_count": null,
   "metadata": {},
   "outputs": [],
   "source": [
    "# df.plot()\n",
    "# Oops! that didn't work!\n",
    "df.plot(x='year')"
   ]
  },
  {
   "cell_type": "code",
   "execution_count": null,
   "metadata": {},
   "outputs": [],
   "source": [
    "# The below won't work:\n",
    "df3 = pd.read_csv('data/sea_level3.txt', sep=r\"\\s+\", header=None)\n",
    "\n",
    "# Let's try this:\n",
    "# df3 = pd.read_csv('data/sea_level3.txt', sep=r\"\\s+\",header=None)\n"
   ]
  },
  {
   "cell_type": "code",
   "execution_count": null,
   "metadata": {},
   "outputs": [],
   "source": [
    "df3.head(3)"
   ]
  },
  {
   "cell_type": "code",
   "execution_count": null,
   "metadata": {},
   "outputs": [],
   "source": [
    "\"\"\"\n",
    "HDR 1 altimeter type 0=dual-frequency  999=single frequency (ie Poseidon-1)\n",
    "HDR 2 merged file cycle #\n",
    "HDR 3 year+fraction of year (mid-cycle)\n",
    "HDR 4 number of observations\n",
    "HDR 5 number of weighted observations\n",
    "HDR 6 GMSL (Global Isostatic Adjustment (GIA) not applied) variation (mm) with respect to 20-year TOPEX/Jason collinear mean reference\n",
    "HDR 7 standard deviation of GMSL (GIA not applied) variation estimate (mm)\n",
    "HDR* 8 smoothed (60-day Gaussian type filter) GMSL (GIA not applied) variation (mm)  with respect to 20-year mean\n",
    "HDR* 9 GMSL (Global Isostatic Adjustment (GIA) applied) variation (mm) )  with respect to 20-year mean\n",
    "HDR 10 standard deviation of GMSL (GIA applied) variation estimate (mm)\n",
    "HDR* 11 smoothed (60-day Gaussian type filter) GMSL (GIA applied) variation (mm) )  with respect to 20-year mean\n",
    "HDR* 12 moothed (60-day Gaussian type filter) GMSL (GIA applied) variation (mm); annual and semi-annual signal removed )  with respect to 20-year mean\n",
    "\"\"\"\n",
    "meta = ['alt', 'cycle', 'year', 'obs', 'wobs', 'GMSL', 'devGMSL', 'smGMSL', 'GMSL2', 'devGMSL2', 'smGMSL2', 'sm2GMSL2']\n",
    "print(\"len(meta) =\", len(meta))\n",
    "df3 = pd.read_csv('data/sea_level3.txt', sep=r\"\\s+\", names=meta)\n",
    "df3.head(5)"
   ]
  },
  {
   "cell_type": "code",
   "execution_count": null,
   "metadata": {},
   "outputs": [],
   "source": [
    "df3.plot(x='year', y='sm2GMSL2')"
   ]
  },
  {
   "cell_type": "code",
   "execution_count": null,
   "metadata": {},
   "outputs": [],
   "source": [
    "df3.plot(x='year', y='GMSL2')"
   ]
  },
  {
   "cell_type": "code",
   "execution_count": null,
   "metadata": {
    "scrolled": true
   },
   "outputs": [],
   "source": [
    "fig = df3.plot(x='year', y=['sm2GMSL2','GMSL2'],figsize=(10,7)).get_figure()\n",
    "fig.savefig('sealevel.png')\n",
    "\n",
    "# seaplot.savefig('test.pdf')\n",
    "# What are the peaks? Seasonal?\n",
    "# Can you write a program to extract the maxima? The minima?"
   ]
  },
  {
   "cell_type": "code",
   "execution_count": null,
   "metadata": {},
   "outputs": [],
   "source": [
    "years = df3['year']\n",
    "sealevel = df3['sm2GMSL2']"
   ]
  },
  {
   "cell_type": "code",
   "execution_count": null,
   "metadata": {},
   "outputs": [],
   "source": [
    "type(years)"
   ]
  },
  {
   "cell_type": "code",
   "execution_count": null,
   "metadata": {},
   "outputs": [],
   "source": [
    "plt.plot(years, sealevel)    "
   ]
  },
  {
   "cell_type": "code",
   "execution_count": null,
   "metadata": {},
   "outputs": [],
   "source": [
    "m, b = np.polyfit(years, sealevel, 1)\n",
    "m, b"
   ]
  },
  {
   "cell_type": "code",
   "execution_count": null,
   "metadata": {},
   "outputs": [],
   "source": [
    "def y(x):\n",
    "    return m*x + b\n",
    "y(2019), y(2049)"
   ]
  },
  {
   "cell_type": "code",
   "execution_count": null,
   "metadata": {},
   "outputs": [],
   "source": [
    "linfit = list(map(lambda x: y(x), years))\n",
    "\n",
    "plt.plot( years, sealevel, color='blue', linestyle='solid')\n",
    "plt.plot( years, linfit, color='red', linestyle='solid')\n",
    "plt.title(\"Sea leval\")\n",
    "plt.ylabel(\"Delta level (mm)\")\n",
    "\n",
    "plt.show()"
   ]
  },
  {
   "cell_type": "code",
   "execution_count": null,
   "metadata": {},
   "outputs": [],
   "source": []
  }
 ],
 "metadata": {
  "kernelspec": {
   "display_name": "Python 3",
   "language": "python",
   "name": "python3"
  },
  "language_info": {
   "codemirror_mode": {
    "name": "ipython",
    "version": 3
   },
   "file_extension": ".py",
   "mimetype": "text/x-python",
   "name": "python",
   "nbconvert_exporter": "python",
   "pygments_lexer": "ipython3",
   "version": "3.7.1"
  }
 },
 "nbformat": 4,
 "nbformat_minor": 2
}
