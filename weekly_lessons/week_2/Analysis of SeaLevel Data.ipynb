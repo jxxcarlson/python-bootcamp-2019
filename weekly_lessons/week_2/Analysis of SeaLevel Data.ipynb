{
 "cells": [
  {
   "cell_type": "code",
   "execution_count": 2,
   "metadata": {},
   "outputs": [],
   "source": [
    "def read_file(file_name):\n",
    "    file = open(file_name)\n",
    "    data = file.read()\n",
    "    file.close()\n",
    "    return data\n",
    "\n",
    "data_as_string = read_file('data/sea_level.txt')"
   ]
  },
  {
   "cell_type": "code",
   "execution_count": 4,
   "metadata": {},
   "outputs": [
    {
     "data": {
      "text/plain": [
       "'HDR Source: ftp://podaac.jpl.nasa.gov/allData/merged_alt/L2/TP_J1_OSTM/global_mean_sea_level/GMSL_TPJAOS_4.2_199209_201901.txt\\nHDR Web page  : https://climate.nasa.gov/vital-signs/sea-level/\\nHDR Global Mean Sea Level Data\\nHDR\\nHDR This file contains Global Mean Sea Level (GMSL) variations computed at the NASA Goddard Space Flight Center under the\\nHDR auspices of the NASA MEaSUREs program. The GMSL was generated using the Integrated Multi-Mission Ocean Altimeter Data for\\nHDR Climate Research (http://podaac.jpl.nasa.gov/dataset/MERGED_TP_J1_OSTM_OST_ALL_V4.2). It combines Sea Surface Heights from\\nHDR TOPEX/Poseidon, Jason-1, OSTM/Jason-2, and Jason-3 to a common terrestrial reference frame with all inter-mission biases, range and\\nHDR geophysical corrections applied and placed onto a georeferenced orbit. This creates a consistent data record throughout\\nHDR time, regardless of the instrument used.\\nHDR\\nHDR The data can be found below. A separate figure file, Global_Sea_Level_Graph, was gener'"
      ]
     },
     "execution_count": 4,
     "metadata": {},
     "output_type": "execute_result"
    }
   ],
   "source": [
    "data_as_string[:1000]"
   ]
  },
  {
   "cell_type": "code",
   "execution_count": null,
   "metadata": {},
   "outputs": [],
   "source": []
  }
 ],
 "metadata": {
  "kernelspec": {
   "display_name": "Python 3",
   "language": "python",
   "name": "python3"
  },
  "language_info": {
   "codemirror_mode": {
    "name": "ipython",
    "version": 3
   },
   "file_extension": ".py",
   "mimetype": "text/x-python",
   "name": "python",
   "nbconvert_exporter": "python",
   "pygments_lexer": "ipython3",
   "version": "3.7.1"
  }
 },
 "nbformat": 4,
 "nbformat_minor": 2
}
