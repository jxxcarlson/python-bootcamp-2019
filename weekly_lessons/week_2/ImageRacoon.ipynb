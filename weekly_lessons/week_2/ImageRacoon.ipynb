{
 "cells": [
  {
   "cell_type": "code",
   "execution_count": null,
   "metadata": {},
   "outputs": [],
   "source": [
    "# TOPIC: A little image processing\n",
    "# Recall that audio is just data.  It can be represented as \n",
    "# an array of numbers. Same with a color image.  It is just data, \n",
    "# given image is given by a 2D array of RGB data:\n",
    "# a 3D array [red, green, blue] of integers in the range\n",
    "# 0 to 255.\n",
    "#\n",
    "# We will use scipy and numpy for this work\n",
    "# SOURCE: https://scipy-lectures.org/advanced/image_processing/index.html\n",
    "\n",
    "# Import libraries\n",
    "from scipy import misc\n",
    "from scipy import ndimage\n",
    "import numpy as np\n",
    "import imageio\n",
    "import matplotlib.pyplot as plt\n",
    "%matplotlib inline\n",
    "\n",
    "# Get a stock image from scipy's misc \n",
    "# library and save it to a file\n",
    "# for later use\n",
    "face = misc.face()\n",
    "imageio.imwrite('face.png', face) \n",
    "\n",
    "# Show the images\n",
    "plt.figure(figsize=(8,8))\n",
    "plt.imshow(face)\n",
    "plt.show()\n"
   ]
  },
  {
   "cell_type": "code",
   "execution_count": null,
   "metadata": {},
   "outputs": [],
   "source": [
    "type(face)"
   ]
  },
  {
   "cell_type": "code",
   "execution_count": null,
   "metadata": {},
   "outputs": [],
   "source": [
    "face.shape, face.dtype"
   ]
  },
  {
   "cell_type": "code",
   "execution_count": null,
   "metadata": {},
   "outputs": [],
   "source": [
    "# We'll put a red rectangle in the \n",
    "# lower right corner of the image\n",
    "\n",
    "face2 = np.copy(face)\n",
    "face2[700:769, 900:1024] = [255,0,0]\n",
    "plt.figure(figsize=(8,8))\n",
    "plt.imshow(face2)"
   ]
  },
  {
   "cell_type": "code",
   "execution_count": null,
   "metadata": {},
   "outputs": [],
   "source": [
    "# Now we'll convert the racoon image to grayscale\n",
    "# using a weighted average\n",
    "\n",
    "def rgb2gray(rgb):\n",
    "    return np.dot(rgb[...,:3], [0.2989, 0.5870, 0.1140])\n",
    "face_gray = rgb2gray(face)\n",
    "plt.figure(figsize=(8,8))\n",
    "plt.imshow(face_gray)\n",
    "face_gray"
   ]
  },
  {
   "cell_type": "code",
   "execution_count": null,
   "metadata": {},
   "outputs": [],
   "source": [
    "# Oops! Need to give plt.imshow a color map\n",
    "\n",
    "plt.figure(figsize=(8,8))\n",
    "plt.imshow(face_gray, cmap=plt.cm.gray) "
   ]
  },
  {
   "cell_type": "code",
   "execution_count": null,
   "metadata": {},
   "outputs": [],
   "source": [
    "# Let's try the standard average\n",
    "\n",
    "def rgb2gray(rgb):\n",
    "    return np.dot(rgb[...,:3], [0.3333, 0.3333, 0.3333])\n",
    "face_gray = rgb2gray(face)\n",
    "\n",
    "plt.figure(figsize=(8,8))\n",
    "plt.imshow(face_gray, cmap=plt.cm.gray)\n",
    "face_gray"
   ]
  },
  {
   "cell_type": "code",
   "execution_count": null,
   "metadata": {},
   "outputs": [],
   "source": [
    "# Next, we make a grayscale image using only\n",
    "# the blue channel\n",
    "\n",
    "def rgb2gray(rgb):\n",
    "    return np.dot(rgb[...,:3], [0.0, 0.0, 1.0])\n",
    "face_gray = rgb2gray(face)\n",
    "\n",
    "plt.figure(figsize=(8,8))\n",
    "plt.imshow(face_gray, cmap=plt.cm.gray)"
   ]
  },
  {
   "cell_type": "code",
   "execution_count": null,
   "metadata": {},
   "outputs": [],
   "source": [
    "# Let's rescale the color\n",
    "\n",
    "def rgb_rescale_color(rgb):\n",
    "    return rgb[...,:3]*[1, 3, 1]\n",
    "face_c = rgb_rescale_color(face)\n",
    "\n",
    "plt.figure(figsize=(8,8))\n",
    "plt.imshow(face_c)"
   ]
  },
  {
   "cell_type": "code",
   "execution_count": null,
   "metadata": {},
   "outputs": [],
   "source": [
    "# Finally, we are going to try to raise\n",
    "# the contrast in the grayscale image.\n",
    "# First step: get the maximum and minimum values\n",
    "\n",
    "print(face_gray.shape)\n",
    "gs = np.copy(face_gray).flatten()\n",
    "min(gs), max(gs), gs\n"
   ]
  },
  {
   "cell_type": "code",
   "execution_count": null,
   "metadata": {},
   "outputs": [],
   "source": [
    "a = 30; b = 225\n",
    "m = 255/(b - a)\n",
    "def rescale(x):\n",
    "    xx = m*(x -a)\n",
    "    if xx < 0:\n",
    "        return 0\n",
    "    elif xx > 255:\n",
    "        return 255\n",
    "    else:\n",
    "        return xx\n",
    "    \n",
    "rescale_v = np.vectorize(rescale)\n",
    "# https://docs.scipy.org/doc/numpy/reference/generated/numpy.vectorize.html\n",
    "\n",
    "gs2 = rescale_v(gs)\n",
    "min(gs2), max(gs2), gs2"
   ]
  },
  {
   "cell_type": "code",
   "execution_count": null,
   "metadata": {},
   "outputs": [],
   "source": [
    "gs3 = gs2.reshape(768, 1024)\n",
    "\n",
    "plt.figure(figsize=(8,8))\n",
    "plt.imshow(gs3, cmap=plt.cm.gray)\n",
    "# plt.imshow(face_gray, cmap=plt.cm.gray) \n"
   ]
  },
  {
   "cell_type": "code",
   "execution_count": null,
   "metadata": {},
   "outputs": [],
   "source": [
    "bin_data = np.arange(0,256, 1)\n",
    "bin_data"
   ]
  },
  {
   "cell_type": "code",
   "execution_count": null,
   "metadata": {},
   "outputs": [],
   "source": [
    "hist = np.histogram(gs, bins=bin_data)\n",
    "type(hist)\n",
    "freq = hist[0]\n",
    "bin = hist[1]\n",
    "bin, freq"
   ]
  },
  {
   "cell_type": "code",
   "execution_count": null,
   "metadata": {},
   "outputs": [],
   "source": [
    "plt.figure(figsize=(8,4))\n",
    "plt.plot(bin[:-1], freq)\n",
    "len(bin), len(freq)"
   ]
  },
  {
   "cell_type": "code",
   "execution_count": null,
   "metadata": {},
   "outputs": [],
   "source": [
    "freq[ 10:30]"
   ]
  },
  {
   "cell_type": "code",
   "execution_count": null,
   "metadata": {},
   "outputs": [],
   "source": [
    "list(freq).index(2786)"
   ]
  },
  {
   "cell_type": "code",
   "execution_count": null,
   "metadata": {},
   "outputs": [],
   "source": [
    "plt.figure(figsize=(8,4))\n",
    "plt.plot(bin[28:-1], freq[28:])\n",
    "len(bin), len(freq)"
   ]
  }
 ],
 "metadata": {
  "kernelspec": {
   "display_name": "Python 3",
   "language": "python",
   "name": "python3"
  },
  "language_info": {
   "codemirror_mode": {
    "name": "ipython",
    "version": 3
   },
   "file_extension": ".py",
   "mimetype": "text/x-python",
   "name": "python",
   "nbconvert_exporter": "python",
   "pygments_lexer": "ipython3",
   "version": "3.7.1"
  }
 },
 "nbformat": 4,
 "nbformat_minor": 2
}
